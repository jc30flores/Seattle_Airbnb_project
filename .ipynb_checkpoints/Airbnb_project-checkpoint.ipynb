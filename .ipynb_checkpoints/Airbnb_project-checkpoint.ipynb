{
 "cells": [
  {
   "cell_type": "markdown",
   "id": "c19f9cc0",
   "metadata": {},
   "source": [
    "- Can you describe the vibe of each Seattle neighborhood using listing descriptions?\n",
    "- What are the busiest times of the year to visit Seattle? By how much do prices spike?\n",
    "- Is there a general upward trend of both new Airbnb listings and total Airbnb visitors to Seattle?\n"
   ]
  },
  {
   "cell_type": "code",
   "execution_count": 1,
   "id": "f8de8489",
   "metadata": {},
   "outputs": [],
   "source": [
    "import numpy as np\n",
    "import pandas as pd\n",
    "import matplotlib.pyplot as plt\n",
    "import seaborn as sns\n",
    "from zipfile import ZipFile\n",
    "import random\n",
    "%matplotlib inline"
   ]
  },
  {
   "cell_type": "code",
   "execution_count": 2,
   "id": "5d0d520e",
   "metadata": {},
   "outputs": [],
   "source": [
    "#Extracting the archive.zip, this folder contain the 3 csv files.\n",
    "#with ZipFile('archive.zip', 'r') as zip:\n",
    "    #zip.extractall('datasets')"
   ]
  },
  {
   "cell_type": "code",
   "execution_count": 45,
   "id": "2fcb58e3",
   "metadata": {},
   "outputs": [],
   "source": [
    "#Saving the csv files into the data frames.\n",
    "review_df = pd.read_csv('datasets/reviews.csv')\n",
    "calendar_df = pd.read_csv('datasets/calendar.csv')\n",
    "listings_df = pd.read_csv('datasets/listings.csv')"
   ]
  },
  {
   "cell_type": "code",
   "execution_count": 67,
   "id": "6c9f3a4d",
   "metadata": {},
   "outputs": [
    {
     "data": {
      "text/html": [
       "<div>\n",
       "<style scoped>\n",
       "    .dataframe tbody tr th:only-of-type {\n",
       "        vertical-align: middle;\n",
       "    }\n",
       "\n",
       "    .dataframe tbody tr th {\n",
       "        vertical-align: top;\n",
       "    }\n",
       "\n",
       "    .dataframe thead th {\n",
       "        text-align: right;\n",
       "    }\n",
       "</style>\n",
       "<table border=\"1\" class=\"dataframe\">\n",
       "  <thead>\n",
       "    <tr style=\"text-align: right;\">\n",
       "      <th></th>\n",
       "      <th>listing_id</th>\n",
       "      <th>id</th>\n",
       "      <th>date</th>\n",
       "      <th>reviewer_id</th>\n",
       "      <th>reviewer_name</th>\n",
       "      <th>comments</th>\n",
       "    </tr>\n",
       "  </thead>\n",
       "  <tbody>\n",
       "    <tr>\n",
       "      <th>0</th>\n",
       "      <td>7202016</td>\n",
       "      <td>38917982</td>\n",
       "      <td>2015-07-19</td>\n",
       "      <td>28943674</td>\n",
       "      <td>Bianca</td>\n",
       "      <td>Cute and cozy place. Perfect location to every...</td>\n",
       "    </tr>\n",
       "    <tr>\n",
       "      <th>1</th>\n",
       "      <td>7202016</td>\n",
       "      <td>39087409</td>\n",
       "      <td>2015-07-20</td>\n",
       "      <td>32440555</td>\n",
       "      <td>Frank</td>\n",
       "      <td>Kelly has a great room in a very central locat...</td>\n",
       "    </tr>\n",
       "    <tr>\n",
       "      <th>2</th>\n",
       "      <td>7202016</td>\n",
       "      <td>39820030</td>\n",
       "      <td>2015-07-26</td>\n",
       "      <td>37722850</td>\n",
       "      <td>Ian</td>\n",
       "      <td>Very spacious apartment, and in a great neighb...</td>\n",
       "    </tr>\n",
       "    <tr>\n",
       "      <th>3</th>\n",
       "      <td>7202016</td>\n",
       "      <td>40813543</td>\n",
       "      <td>2015-08-02</td>\n",
       "      <td>33671805</td>\n",
       "      <td>George</td>\n",
       "      <td>Close to Seattle Center and all it has to offe...</td>\n",
       "    </tr>\n",
       "    <tr>\n",
       "      <th>4</th>\n",
       "      <td>7202016</td>\n",
       "      <td>41986501</td>\n",
       "      <td>2015-08-10</td>\n",
       "      <td>34959538</td>\n",
       "      <td>Ming</td>\n",
       "      <td>Kelly was a great host and very accommodating ...</td>\n",
       "    </tr>\n",
       "  </tbody>\n",
       "</table>\n",
       "</div>"
      ],
      "text/plain": [
       "   listing_id        id        date  reviewer_id reviewer_name  \\\n",
       "0     7202016  38917982  2015-07-19     28943674        Bianca   \n",
       "1     7202016  39087409  2015-07-20     32440555         Frank   \n",
       "2     7202016  39820030  2015-07-26     37722850           Ian   \n",
       "3     7202016  40813543  2015-08-02     33671805        George   \n",
       "4     7202016  41986501  2015-08-10     34959538          Ming   \n",
       "\n",
       "                                            comments  \n",
       "0  Cute and cozy place. Perfect location to every...  \n",
       "1  Kelly has a great room in a very central locat...  \n",
       "2  Very spacious apartment, and in a great neighb...  \n",
       "3  Close to Seattle Center and all it has to offe...  \n",
       "4  Kelly was a great host and very accommodating ...  "
      ]
     },
     "execution_count": 67,
     "metadata": {},
     "output_type": "execute_result"
    }
   ],
   "source": [
    "review_df.head()\n",
    "#review_df.info()\n",
    "#review_df.describe()"
   ]
  },
  {
   "cell_type": "code",
   "execution_count": 5,
   "id": "4cbc724a",
   "metadata": {},
   "outputs": [
    {
     "data": {
      "text/html": [
       "<div>\n",
       "<style scoped>\n",
       "    .dataframe tbody tr th:only-of-type {\n",
       "        vertical-align: middle;\n",
       "    }\n",
       "\n",
       "    .dataframe tbody tr th {\n",
       "        vertical-align: top;\n",
       "    }\n",
       "\n",
       "    .dataframe thead th {\n",
       "        text-align: right;\n",
       "    }\n",
       "</style>\n",
       "<table border=\"1\" class=\"dataframe\">\n",
       "  <thead>\n",
       "    <tr style=\"text-align: right;\">\n",
       "      <th></th>\n",
       "      <th>listing_id</th>\n",
       "      <th>date</th>\n",
       "      <th>available</th>\n",
       "      <th>price</th>\n",
       "    </tr>\n",
       "  </thead>\n",
       "  <tbody>\n",
       "    <tr>\n",
       "      <th>0</th>\n",
       "      <td>241032</td>\n",
       "      <td>2016-01-04</td>\n",
       "      <td>t</td>\n",
       "      <td>$85.00</td>\n",
       "    </tr>\n",
       "    <tr>\n",
       "      <th>1</th>\n",
       "      <td>241032</td>\n",
       "      <td>2016-01-05</td>\n",
       "      <td>t</td>\n",
       "      <td>$85.00</td>\n",
       "    </tr>\n",
       "    <tr>\n",
       "      <th>2</th>\n",
       "      <td>241032</td>\n",
       "      <td>2016-01-06</td>\n",
       "      <td>f</td>\n",
       "      <td>NaN</td>\n",
       "    </tr>\n",
       "    <tr>\n",
       "      <th>3</th>\n",
       "      <td>241032</td>\n",
       "      <td>2016-01-07</td>\n",
       "      <td>f</td>\n",
       "      <td>NaN</td>\n",
       "    </tr>\n",
       "    <tr>\n",
       "      <th>4</th>\n",
       "      <td>241032</td>\n",
       "      <td>2016-01-08</td>\n",
       "      <td>f</td>\n",
       "      <td>NaN</td>\n",
       "    </tr>\n",
       "  </tbody>\n",
       "</table>\n",
       "</div>"
      ],
      "text/plain": [
       "   listing_id        date available   price\n",
       "0      241032  2016-01-04         t  $85.00\n",
       "1      241032  2016-01-05         t  $85.00\n",
       "2      241032  2016-01-06         f     NaN\n",
       "3      241032  2016-01-07         f     NaN\n",
       "4      241032  2016-01-08         f     NaN"
      ]
     },
     "execution_count": 5,
     "metadata": {},
     "output_type": "execute_result"
    }
   ],
   "source": [
    "calendar_df.head()\n",
    "#calendar_df.info()\n",
    "#calendar_df.describe()"
   ]
  },
  {
   "cell_type": "code",
   "execution_count": 6,
   "id": "a6462d1a",
   "metadata": {
    "scrolled": true
   },
   "outputs": [
    {
     "name": "stdout",
     "output_type": "stream",
     "text": [
      "<class 'pandas.core.frame.DataFrame'>\n",
      "RangeIndex: 3818 entries, 0 to 3817\n",
      "Data columns (total 92 columns):\n",
      " #   Column                            Non-Null Count  Dtype  \n",
      "---  ------                            --------------  -----  \n",
      " 0   id                                3818 non-null   int64  \n",
      " 1   listing_url                       3818 non-null   object \n",
      " 2   scrape_id                         3818 non-null   int64  \n",
      " 3   last_scraped                      3818 non-null   object \n",
      " 4   name                              3818 non-null   object \n",
      " 5   summary                           3641 non-null   object \n",
      " 6   space                             3249 non-null   object \n",
      " 7   description                       3818 non-null   object \n",
      " 8   experiences_offered               3818 non-null   object \n",
      " 9   neighborhood_overview             2786 non-null   object \n",
      " 10  notes                             2212 non-null   object \n",
      " 11  transit                           2884 non-null   object \n",
      " 12  thumbnail_url                     3498 non-null   object \n",
      " 13  medium_url                        3498 non-null   object \n",
      " 14  picture_url                       3818 non-null   object \n",
      " 15  xl_picture_url                    3498 non-null   object \n",
      " 16  host_id                           3818 non-null   int64  \n",
      " 17  host_url                          3818 non-null   object \n",
      " 18  host_name                         3816 non-null   object \n",
      " 19  host_since                        3816 non-null   object \n",
      " 20  host_location                     3810 non-null   object \n",
      " 21  host_about                        2959 non-null   object \n",
      " 22  host_response_time                3295 non-null   object \n",
      " 23  host_response_rate                3295 non-null   object \n",
      " 24  host_acceptance_rate              3045 non-null   object \n",
      " 25  host_is_superhost                 3816 non-null   object \n",
      " 26  host_thumbnail_url                3816 non-null   object \n",
      " 27  host_picture_url                  3816 non-null   object \n",
      " 28  host_neighbourhood                3518 non-null   object \n",
      " 29  host_listings_count               3816 non-null   float64\n",
      " 30  host_total_listings_count         3816 non-null   float64\n",
      " 31  host_verifications                3818 non-null   object \n",
      " 32  host_has_profile_pic              3816 non-null   object \n",
      " 33  host_identity_verified            3816 non-null   object \n",
      " 34  street                            3818 non-null   object \n",
      " 35  neighbourhood                     3402 non-null   object \n",
      " 36  neighbourhood_cleansed            3818 non-null   object \n",
      " 37  neighbourhood_group_cleansed      3818 non-null   object \n",
      " 38  city                              3818 non-null   object \n",
      " 39  state                             3818 non-null   object \n",
      " 40  zipcode                           3811 non-null   object \n",
      " 41  market                            3818 non-null   object \n",
      " 42  smart_location                    3818 non-null   object \n",
      " 43  country_code                      3818 non-null   object \n",
      " 44  country                           3818 non-null   object \n",
      " 45  latitude                          3818 non-null   float64\n",
      " 46  longitude                         3818 non-null   float64\n",
      " 47  is_location_exact                 3818 non-null   object \n",
      " 48  property_type                     3817 non-null   object \n",
      " 49  room_type                         3818 non-null   object \n",
      " 50  accommodates                      3818 non-null   int64  \n",
      " 51  bathrooms                         3802 non-null   float64\n",
      " 52  bedrooms                          3812 non-null   float64\n",
      " 53  beds                              3817 non-null   float64\n",
      " 54  bed_type                          3818 non-null   object \n",
      " 55  amenities                         3818 non-null   object \n",
      " 56  square_feet                       97 non-null     float64\n",
      " 57  price                             3818 non-null   object \n",
      " 58  weekly_price                      2009 non-null   object \n",
      " 59  monthly_price                     1517 non-null   object \n",
      " 60  security_deposit                  1866 non-null   object \n",
      " 61  cleaning_fee                      2788 non-null   object \n",
      " 62  guests_included                   3818 non-null   int64  \n",
      " 63  extra_people                      3818 non-null   object \n",
      " 64  minimum_nights                    3818 non-null   int64  \n",
      " 65  maximum_nights                    3818 non-null   int64  \n",
      " 66  calendar_updated                  3818 non-null   object \n",
      " 67  has_availability                  3818 non-null   object \n",
      " 68  availability_30                   3818 non-null   int64  \n",
      " 69  availability_60                   3818 non-null   int64  \n",
      " 70  availability_90                   3818 non-null   int64  \n",
      " 71  availability_365                  3818 non-null   int64  \n",
      " 72  calendar_last_scraped             3818 non-null   object \n",
      " 73  number_of_reviews                 3818 non-null   int64  \n",
      " 74  first_review                      3191 non-null   object \n",
      " 75  last_review                       3191 non-null   object \n",
      " 76  review_scores_rating              3171 non-null   float64\n",
      " 77  review_scores_accuracy            3160 non-null   float64\n",
      " 78  review_scores_cleanliness         3165 non-null   float64\n",
      " 79  review_scores_checkin             3160 non-null   float64\n",
      " 80  review_scores_communication       3167 non-null   float64\n",
      " 81  review_scores_location            3163 non-null   float64\n",
      " 82  review_scores_value               3162 non-null   float64\n",
      " 83  requires_license                  3818 non-null   object \n",
      " 84  license                           0 non-null      float64\n",
      " 85  jurisdiction_names                3818 non-null   object \n",
      " 86  instant_bookable                  3818 non-null   object \n",
      " 87  cancellation_policy               3818 non-null   object \n",
      " 88  require_guest_profile_picture     3818 non-null   object \n",
      " 89  require_guest_phone_verification  3818 non-null   object \n",
      " 90  calculated_host_listings_count    3818 non-null   int64  \n",
      " 91  reviews_per_month                 3191 non-null   float64\n",
      "dtypes: float64(17), int64(13), object(62)\n",
      "memory usage: 2.7+ MB\n"
     ]
    }
   ],
   "source": [
    "#listings_df.head()\n",
    "listings_df.info()\n",
    "#listings_df.describe()"
   ]
  },
  {
   "cell_type": "markdown",
   "id": "1628dba5",
   "metadata": {},
   "source": [
    "Creare una variable que contenga las columnas que tienen valores NaN, para recurrir a esta cuando necesite investigar una columna en especifico, aparte creare otra variable que contengan las columnas que sobrepasen el 25% de valores NaN y eliminare las columnas que contengan mas del 75% de valores NaN. \n",
    "\n",
    "Solo limpiare y procesare las columnas que vaya a necesitar en el proyecto para resolver las preguntas, asi no perdere tiempo limpiando columnas que no son importantes para responder mis preguntas."
   ]
  },
  {
   "cell_type": "code",
   "execution_count": 7,
   "id": "6daff51a",
   "metadata": {},
   "outputs": [],
   "source": [
    "all_nulls_col = listings_df[listings_df.columns[listings_df.isnull().sum() > 0]]\n",
    "#all_nulls_col.info()"
   ]
  },
  {
   "cell_type": "code",
   "execution_count": 8,
   "id": "f2ea8e17",
   "metadata": {},
   "outputs": [],
   "source": [
    "listings_nulls_col_25 = listings_df[listings_df.columns[listings_df.isnull().sum()/listings_df.shape[0] > 0.25]]\n",
    "\n",
    "#listings_nulls_col_25.info()\n",
    "\n",
    "# More 75%: 'square_feet', 'license' \n",
    "# More 50%: 'monthly_price', 'security_deposit'\n",
    "# More 40%: 'weekly_price', 'notes'\n",
    "# More 25%: 'neighborhood_overview', 'cleaning_fee'"
   ]
  },
  {
   "cell_type": "code",
   "execution_count": 9,
   "id": "5993257f",
   "metadata": {},
   "outputs": [],
   "source": [
    "#Dropping this columns because have more than 75% of NaN values.\n",
    "listings_df = listings_df.drop(['square_feet', 'license'], axis=1)"
   ]
  },
  {
   "cell_type": "markdown",
   "id": "4931743e",
   "metadata": {},
   "source": [
    "# Question 1:\n",
    "\n",
    "### Can you describe the vibe of each Seattle neighborhood using listing descriptions?\n",
    "\n",
    "Para resolver esta pregunta usare listings_df, la columna 'review_scores_location' que contiene los scores de todas las reviews que se les han otorgado a los diferentes neighborhoods de Seattle, la columna 'neighborhood' para ver los diferentes neighborhood que hay y saber the mean scores the cada uno de ellos. "
   ]
  },
  {
   "cell_type": "code",
   "execution_count": 10,
   "id": "bba175f0",
   "metadata": {},
   "outputs": [],
   "source": [
    "#Filling the NaN values in the 'review_scores_location' with the mean().\n",
    "listings_df['review_scores_location'] = listings_df['review_scores_location'].fillna(listings_df['review_scores_location'].mean())\n",
    "\n",
    "#And changing the values to int, using df[column].astype(type).\n",
    "listings_df['review_scores_location'] = listings_df['review_scores_location'].astype(int)"
   ]
  },
  {
   "cell_type": "code",
   "execution_count": 11,
   "id": "41ca5798",
   "metadata": {},
   "outputs": [
    {
     "data": {
      "image/png": "[encoded data removed]",
      "text/plain": [
       "<Figure size 432x288 with 1 Axes>"
      ]
     },
     "metadata": {
      "needs_background": "light"
     },
     "output_type": "display_data"
    }
   ],
   "source": [
    "#Viewing the cantity of each value.\n",
    "(listings_df['review_scores_location'].value_counts()).plot(kind='bar');\n",
    "plt.title('Score of Location Reviews (\"Neighbourhood\")');"
   ]
  },
  {
   "cell_type": "code",
   "execution_count": 12,
   "id": "0d9493be",
   "metadata": {
    "scrolled": false
   },
   "outputs": [
    {
     "data": {
      "text/plain": [
       "10    2122\n",
       "9     1539\n",
       "8      129\n",
       "7       19\n",
       "6        8\n",
       "4        1\n",
       "Name: review_scores_location, dtype: int64"
      ]
     },
     "execution_count": 12,
     "metadata": {},
     "output_type": "execute_result"
    }
   ],
   "source": [
    "listings_df['review_scores_location'].value_counts()"
   ]
  },
  {
   "cell_type": "code",
   "execution_count": 13,
   "id": "9a695e5e",
   "metadata": {},
   "outputs": [],
   "source": [
    "#Looking the mean scores for each neighborhood\n",
    "mean_score_neighborhood = listings_df.groupby('neighbourhood').mean()['review_scores_location'].sort_values().astype(int)"
   ]
  },
  {
   "cell_type": "code",
   "execution_count": 14,
   "id": "e323f209",
   "metadata": {
    "scrolled": true
   },
   "outputs": [
    {
     "data": {
      "text/plain": [
       "neighbourhood\n",
       "Pinehurst                 8\n",
       "South Beacon Hill         8\n",
       "South Park                8\n",
       "Holly Park                8\n",
       "Highland Park             8\n",
       "Arbor Heights             8\n",
       "Industrial District       8\n",
       "Rainier Beach             8\n",
       "Dunlap                    8\n",
       "Interbay                  8\n",
       "South Delridge            8\n",
       "Cedar Park                8\n",
       "Brighton                  9\n",
       "Olympic Hills             9\n",
       "North College Park        9\n",
       "Fairmount Park            9\n",
       "International District    9\n",
       "Columbia City             9\n",
       "Haller Lake               9\n",
       "Atlantic                  9\n",
       "North Beacon Hill         9\n",
       "Pioneer Square            9\n",
       "Georgetown                9\n",
       "University District       9\n",
       "Mount Baker               9\n",
       "Wedgewood                 9\n",
       "Victory Heights           9\n",
       "Crown Hill                9\n",
       "Riverview                 9\n",
       "Ravenna                   9\n",
       "Greenwood                 9\n",
       "Bitter Lake               9\n",
       "Seward Park               9\n",
       "Broadview                 9\n",
       "Meadowbrook               9\n",
       "Leschi                    9\n",
       "High Point                9\n",
       "Maple Leaf                9\n",
       "North Delridge            9\n",
       "The Junction              9\n",
       "Name: review_scores_location, dtype: int64"
      ]
     },
     "execution_count": 14,
     "metadata": {},
     "output_type": "execute_result"
    }
   ],
   "source": [
    "#The firt 40 neighbourhoods, with their mean score review.\n",
    "mean_score_neighborhood[:40]"
   ]
  },
  {
   "cell_type": "code",
   "execution_count": 15,
   "id": "e2c680ca",
   "metadata": {
    "scrolled": true
   },
   "outputs": [
    {
     "data": {
      "text/plain": [
       "neighbourhood\n",
       "Broadway                      9\n",
       "Westlake                      9\n",
       "Eastlake                      9\n",
       "Magnolia                      9\n",
       "South Lake Union              9\n",
       "Roosevelt                     9\n",
       "Minor                         9\n",
       "View Ridge                    9\n",
       "Yesler Terrace                9\n",
       "Licton Springs                9\n",
       "Bryant                        9\n",
       "Mathews Beach                 9\n",
       "North Beach/Blue Ridge        9\n",
       "Madison Park                  9\n",
       "Alki                          9\n",
       "Phinney Ridge                 9\n",
       "Windermere                    9\n",
       "Queen Anne                    9\n",
       "Harrison/Denny-Blaine         9\n",
       "First Hill                    9\n",
       "Montlake                      9\n",
       "Stevens                       9\n",
       "Portage Bay                   9\n",
       "Madrona                       9\n",
       "Wallingford                   9\n",
       "Ballard                       9\n",
       "Seaview                       9\n",
       "Gatewood                      9\n",
       "Lower Queen Anne              9\n",
       "Capitol Hill                  9\n",
       "Fremont                       9\n",
       "Pike Place Market             9\n",
       "Belltown                      9\n",
       "Green Lake                    9\n",
       "North Admiral                 9\n",
       "Laurelhurst                   9\n",
       "Genesee                       9\n",
       "Fauntleroy                    9\n",
       "Central Business District     9\n",
       "Pike Market                  10\n",
       "Roxhill                      10\n",
       "Name: review_scores_location, dtype: int64"
      ]
     },
     "execution_count": 15,
     "metadata": {},
     "output_type": "execute_result"
    }
   ],
   "source": [
    "#The last 41 neighbourhoods, with their mean score review.\n",
    "mean_score_neighborhood[40:]"
   ]
  },
  {
   "cell_type": "code",
   "execution_count": 16,
   "id": "920d7fc3",
   "metadata": {},
   "outputs": [
    {
     "data": {
      "text/plain": [
       "9"
      ]
     },
     "execution_count": 16,
     "metadata": {},
     "output_type": "execute_result"
    }
   ],
   "source": [
    "#The mean score of University District.\n",
    "mean_score_neighborhood['University District']"
   ]
  },
  {
   "cell_type": "markdown",
   "id": "efacf2d6",
   "metadata": {},
   "source": [
    "Si vemos los scores que se han otorgado, tenemos unicamente un review malo, que se le otorgo un score de 4, y 8 reviews que se les otorgo un score de 6, aunque tendre que ver uno por uno si este score es malo o bueno."
   ]
  },
  {
   "cell_type": "code",
   "execution_count": 17,
   "id": "fd49d215",
   "metadata": {},
   "outputs": [
    {
     "data": {
      "text/plain": [
       "[\"It is located in the bustling and vibrant University district. A rare 100 walk score. It is within five minutes' walking distance to the University of Washington. You will have access to a diverse array of restaurants, shops and activities.\"]"
      ]
     },
     "execution_count": 17,
     "metadata": {},
     "output_type": "execute_result"
    }
   ],
   "source": [
    "#The review with the value 4 as score.\n",
    "list(listings_df['neighborhood_overview'][listings_df['review_scores_location'] == 4])"
   ]
  },
  {
   "cell_type": "markdown",
   "id": "f3bb6baa",
   "metadata": {},
   "source": [
    "The review no es totalmente buena, pero a pesar que es el unico review con un puntaje de 4, tiene razon con su review, esta hablando sobre University District, e investigando los demas comentarios sobre este district, hablan mas o menos de lo mismo con la unica diferencia que a este usuario le molesta lo que a otros no, vivir cerca de la Universidad es ventaja para otros, pero para este usuario es todo lo contrario, el Distrito no es malo, tiene una de las mejores mean score con un valor de 9, y la mayoria de reviews hablan muy bien de este neighborhood. \n",
    "\n",
    "El usuario debio elegir un lugar acorde a sus gustos y necesidades para hospedarse."
   ]
  },
  {
   "cell_type": "markdown",
   "id": "25b12aba",
   "metadata": {},
   "source": [
    "### Answer\n",
    "\n",
    "Como podemos ver, todos los barrios de Seattle tienen buenas puntuaciones, y en promedio no bajan de 8, en total hay 8 calificaciones de 6, y al leerlas me di cuenta que hablaban bien del barrio, y hay 1 puntuacion de 4, la cual ya fue investigada y explicada. \n",
    "\n",
    "De ahi no tenemos malas reviews, todas son buenas, lo que indica que la vibra en los barrios de Seattle son buenas, y que debes elegir bien donde ir a hospedarte, segun tu tolerancia y comodidad."
   ]
  },
  {
   "cell_type": "markdown",
   "id": "4bf32628",
   "metadata": {},
   "source": [
    "# Question 2:\n",
    "\n",
    "### What are the busiest times of the year to visit Seattle? By how much do prices spike?"
   ]
  },
  {
   "cell_type": "code",
   "execution_count": 46,
   "id": "9f7036d3",
   "metadata": {},
   "outputs": [],
   "source": [
    "#Convert available values to [0,1], 0 for the value 't' this mean that is available.\n",
    "#And 1 for the value 'f' mean is not available.\n",
    "calendar_df['available'] = calendar_df['available'].replace('t', 0)\n",
    "calendar_df['available'] = calendar_df['available'].replace('f', 1)"
   ]
  },
  {
   "cell_type": "code",
   "execution_count": 47,
   "id": "e33e862a",
   "metadata": {},
   "outputs": [],
   "source": [
    "#Convert the column price to float and remove the symbols '$' and ','\n",
    "calendar_df['price'] = calendar_df['price'].str.replace(\"[$,]\",\"\", regex=True).astype(float)"
   ]
  },
  {
   "cell_type": "code",
   "execution_count": 49,
   "id": "f88492dd",
   "metadata": {
    "scrolled": false
   },
   "outputs": [],
   "source": [
    "#Convert the column date to format datetime.\n",
    "calendar_df['date'] = calendar_df['date'].str.replace(\"-\", \"\")\n",
    "calendar_df['date'] = pd.to_datetime(calendar_df['date'], format='%Y%m%d')"
   ]
  },
  {
   "cell_type": "code",
   "execution_count": 53,
   "id": "83caa3a4",
   "metadata": {},
   "outputs": [
    {
     "name": "stderr",
     "output_type": "stream",
     "text": [
      "/tmp/ipykernel_13058/4054018116.py:3: SettingWithCopyWarning: \n",
      "A value is trying to be set on a copy of a slice from a DataFrame\n",
      "\n",
      "See the caveats in the documentation: https://pandas.pydata.org/pandas-docs/stable/user_guide/indexing.html#returning-a-view-versus-a-copy\n",
      "  calendar_df['price'][calendar_df['listing_id'] == lst_id] = calendar_df['price'][calendar_df['listing_id'] == lst_id].fillna(round(calendar_df['price'][calendar_df['listing_id'] == lst_id].mean(),1))\n"
     ]
    }
   ],
   "source": [
    "#Filling the NaN values with the mean of each listing_id.\n",
    "for lst_id in calendar_df['listing_id'].unique():\n",
    "    calendar_df['price'][calendar_df['listing_id'] == lst_id] = calendar_df['price'][calendar_df['listing_id'] == lst_id].fillna(round(calendar_df['price'][calendar_df['listing_id'] == lst_id].mean(),1))\n",
    "\n",
    "#And then filling the remaining nan values with the general mean.\n",
    "#calendar_df['price'].fillna(calendar_df['price'].mean(), inplace=True)"
   ]
  },
  {
   "cell_type": "code",
   "execution_count": 54,
   "id": "bed2ee1d",
   "metadata": {
    "scrolled": true
   },
   "outputs": [],
   "source": [
    "calendar_df['price'].fillna(calendar_df['price'].mean(), inplace=True)"
   ]
  },
  {
   "cell_type": "code",
   "execution_count": 56,
   "id": "d278a234",
   "metadata": {},
   "outputs": [],
   "source": [
    "calendar_df['month'] = calendar_df['date'].dt.month"
   ]
  },
  {
   "cell_type": "code",
   "execution_count": 61,
   "id": "5f0e9285",
   "metadata": {},
   "outputs": [],
   "source": [
    "#Creating groupby with the months\n",
    "date_group = calendar_df.groupby('month').sum().reset_index()\n",
    "price_group = calendar_df.groupby('month').mean().reset_index()"
   ]
  },
  {
   "cell_type": "markdown",
   "id": "142cb57f",
   "metadata": {},
   "source": [
    "Para arreglar los graph debo reemplazar los valores NaN en price, puedo hacerlo por listing_id, es lo mejor, ya que varian entre listing_id.\n",
    "\n",
    "las graficas ya fueron creadas, solo queda mejorarlas e interpretarlas mejor, y tendre completada la segunda pregunta."
   ]
  },
  {
   "cell_type": "code",
   "execution_count": 65,
   "id": "4c4b5f25",
   "metadata": {},
   "outputs": [
    {
     "data": {
      "text/html": [
       "<div>\n",
       "<style scoped>\n",
       "    .dataframe tbody tr th:only-of-type {\n",
       "        vertical-align: middle;\n",
       "    }\n",
       "\n",
       "    .dataframe tbody tr th {\n",
       "        vertical-align: top;\n",
       "    }\n",
       "\n",
       "    .dataframe thead th {\n",
       "        text-align: right;\n",
       "    }\n",
       "</style>\n",
       "<table border=\"1\" class=\"dataframe\">\n",
       "  <thead>\n",
       "    <tr style=\"text-align: right;\">\n",
       "      <th></th>\n",
       "      <th>month</th>\n",
       "      <th>available</th>\n",
       "    </tr>\n",
       "  </thead>\n",
       "  <tbody>\n",
       "    <tr>\n",
       "      <th>0</th>\n",
       "      <td>1</td>\n",
       "      <td>49603</td>\n",
       "    </tr>\n",
       "    <tr>\n",
       "      <th>1</th>\n",
       "      <td>2</td>\n",
       "      <td>37401</td>\n",
       "    </tr>\n",
       "    <tr>\n",
       "      <th>2</th>\n",
       "      <td>3</td>\n",
       "      <td>34420</td>\n",
       "    </tr>\n",
       "    <tr>\n",
       "      <th>3</th>\n",
       "      <td>4</td>\n",
       "      <td>38503</td>\n",
       "    </tr>\n",
       "    <tr>\n",
       "      <th>4</th>\n",
       "      <td>5</td>\n",
       "      <td>38387</td>\n",
       "    </tr>\n",
       "    <tr>\n",
       "      <th>5</th>\n",
       "      <td>6</td>\n",
       "      <td>37296</td>\n",
       "    </tr>\n",
       "    <tr>\n",
       "      <th>6</th>\n",
       "      <td>7</td>\n",
       "      <td>44136</td>\n",
       "    </tr>\n",
       "    <tr>\n",
       "      <th>7</th>\n",
       "      <td>8</td>\n",
       "      <td>42011</td>\n",
       "    </tr>\n",
       "    <tr>\n",
       "      <th>8</th>\n",
       "      <td>9</td>\n",
       "      <td>37294</td>\n",
       "    </tr>\n",
       "    <tr>\n",
       "      <th>9</th>\n",
       "      <td>10</td>\n",
       "      <td>35920</td>\n",
       "    </tr>\n",
       "    <tr>\n",
       "      <th>10</th>\n",
       "      <td>11</td>\n",
       "      <td>32760</td>\n",
       "    </tr>\n",
       "    <tr>\n",
       "      <th>11</th>\n",
       "      <td>12</td>\n",
       "      <td>31297</td>\n",
       "    </tr>\n",
       "  </tbody>\n",
       "</table>\n",
       "</div>"
      ],
      "text/plain": [
       "    month  available\n",
       "0       1      49603\n",
       "1       2      37401\n",
       "2       3      34420\n",
       "3       4      38503\n",
       "4       5      38387\n",
       "5       6      37296\n",
       "6       7      44136\n",
       "7       8      42011\n",
       "8       9      37294\n",
       "9      10      35920\n",
       "10     11      32760\n",
       "11     12      31297"
      ]
     },
     "execution_count": 65,
     "metadata": {},
     "output_type": "execute_result"
    }
   ],
   "source": [
    "date_group[['month', 'available']]"
   ]
  },
  {
   "cell_type": "code",
   "execution_count": 64,
   "id": "75587b12",
   "metadata": {},
   "outputs": [
    {
     "data": {
      "text/html": [
       "<div>\n",
       "<style scoped>\n",
       "    .dataframe tbody tr th:only-of-type {\n",
       "        vertical-align: middle;\n",
       "    }\n",
       "\n",
       "    .dataframe tbody tr th {\n",
       "        vertical-align: top;\n",
       "    }\n",
       "\n",
       "    .dataframe thead th {\n",
       "        text-align: right;\n",
       "    }\n",
       "</style>\n",
       "<table border=\"1\" class=\"dataframe\">\n",
       "  <thead>\n",
       "    <tr style=\"text-align: right;\">\n",
       "      <th></th>\n",
       "      <th>month</th>\n",
       "      <th>price</th>\n",
       "    </tr>\n",
       "  </thead>\n",
       "  <tbody>\n",
       "    <tr>\n",
       "      <th>0</th>\n",
       "      <td>1</td>\n",
       "      <td>128.344186</td>\n",
       "    </tr>\n",
       "    <tr>\n",
       "      <th>1</th>\n",
       "      <td>2</td>\n",
       "      <td>128.666471</td>\n",
       "    </tr>\n",
       "    <tr>\n",
       "      <th>2</th>\n",
       "      <td>3</td>\n",
       "      <td>131.549468</td>\n",
       "    </tr>\n",
       "    <tr>\n",
       "      <th>3</th>\n",
       "      <td>4</td>\n",
       "      <td>133.789809</td>\n",
       "    </tr>\n",
       "    <tr>\n",
       "      <th>4</th>\n",
       "      <td>5</td>\n",
       "      <td>136.693894</td>\n",
       "    </tr>\n",
       "    <tr>\n",
       "      <th>5</th>\n",
       "      <td>6</td>\n",
       "      <td>142.366536</td>\n",
       "    </tr>\n",
       "    <tr>\n",
       "      <th>6</th>\n",
       "      <td>7</td>\n",
       "      <td>143.388794</td>\n",
       "    </tr>\n",
       "    <tr>\n",
       "      <th>7</th>\n",
       "      <td>8</td>\n",
       "      <td>142.745094</td>\n",
       "    </tr>\n",
       "    <tr>\n",
       "      <th>8</th>\n",
       "      <td>9</td>\n",
       "      <td>138.189746</td>\n",
       "    </tr>\n",
       "    <tr>\n",
       "      <th>9</th>\n",
       "      <td>10</td>\n",
       "      <td>134.421418</td>\n",
       "    </tr>\n",
       "    <tr>\n",
       "      <th>10</th>\n",
       "      <td>11</td>\n",
       "      <td>133.654279</td>\n",
       "    </tr>\n",
       "    <tr>\n",
       "      <th>11</th>\n",
       "      <td>12</td>\n",
       "      <td>134.823665</td>\n",
       "    </tr>\n",
       "  </tbody>\n",
       "</table>\n",
       "</div>"
      ],
      "text/plain": [
       "    month       price\n",
       "0       1  128.344186\n",
       "1       2  128.666471\n",
       "2       3  131.549468\n",
       "3       4  133.789809\n",
       "4       5  136.693894\n",
       "5       6  142.366536\n",
       "6       7  143.388794\n",
       "7       8  142.745094\n",
       "8       9  138.189746\n",
       "9      10  134.421418\n",
       "10     11  133.654279\n",
       "11     12  134.823665"
      ]
     },
     "execution_count": 64,
     "metadata": {},
     "output_type": "execute_result"
    }
   ],
   "source": [
    "price_group[['month', 'price']]"
   ]
  },
  {
   "cell_type": "code",
   "execution_count": 59,
   "id": "2feab0c7",
   "metadata": {
    "scrolled": true
   },
   "outputs": [
    {
     "data": {
      "image/png": "[encoded data removed]",
      "text/plain": [
       "<Figure size 432x288 with 1 Axes>"
      ]
     },
     "metadata": {
      "needs_background": "light"
     },
     "output_type": "display_data"
    }
   ],
   "source": [
    "plt.plot(date_group['month'], date_group['available'])\n",
    "plt.title('Booked by Month')\n",
    "plt.show()"
   ]
  },
  {
   "cell_type": "code",
   "execution_count": 62,
   "id": "d6b6572e",
   "metadata": {
    "scrolled": true
   },
   "outputs": [
    {
     "data": {
      "image/png": "[encoded data removed]",
      "text/plain": [
       "<Figure size 432x288 with 1 Axes>"
      ]
     },
     "metadata": {
      "needs_background": "light"
     },
     "output_type": "display_data"
    }
   ],
   "source": [
    "plt.plot(price_group['month'], price_group['price'])\n",
    "plt.title('Price by Month')\n",
    "plt.show()"
   ]
  },
  {
   "cell_type": "markdown",
   "id": "e78278c3",
   "metadata": {},
   "source": [
    "Con los graficos anteriores podemos visualizar que los meses en los que es mas visitado Seattle son: Enero, y entre Julio y Agosto, creo que este ultimo por 4th July ya que es una fecha muy simbolica y donde se celebra a lo grande.\n",
    "\n",
    "Sobre los precios igualmente se eleven extraordinariamente en los meses de Junio, Julio, y Agosto. Visualizando con medias por mes, vemos que se elevan hasta en un 15% mas, del precio medio mas bajo. Llegando hasta un $143 de media por mes, cuando el precio medio menor por mes es de $128, y es por esta razon que el mes de Enero en el grafico anterior tambien tiene una gran cantidad de visitas, porque es cuando los precios estan mas bajos."
   ]
  },
  {
   "cell_type": "code",
   "execution_count": 33,
   "id": "8100abfa",
   "metadata": {},
   "outputs": [],
   "source": [
    "#Changing the values str with the symbol $ to a int, and eliminated the symbol $.\n",
    "def price_str_to_float(df, *columns):\n",
    "    for col in columns:\n",
    "        for n in df[col]:\n",
    "            if type(n) != float:\n",
    "                df[col] = df[col].replace(n, float(n[1:].replace(',','')))\n",
    "price_str_to_float(listings_df, 'price', 'monthly_price', 'weekly_price', 'cleaning_fee', 'security_deposit', 'extra_people')"
   ]
  },
  {
   "cell_type": "code",
   "execution_count": 34,
   "id": "67b80c29",
   "metadata": {},
   "outputs": [],
   "source": [
    "#Changing the values str with the symbol % to a int, and eliminated the symbol %.\n",
    "def porcentage_str_to_int(df, *columns):\n",
    "    for col in columns:\n",
    "        for n in df[col]:\n",
    "            if type(n) == str:\n",
    "                df[col] = df[col].replace(n, int(n[:-1]))\n",
    "porcentage_str_to_int(listings_df, 'host_response_rate', 'host_acceptance_rate')"
   ]
  },
  {
   "cell_type": "code",
   "execution_count": 35,
   "id": "307c30fe",
   "metadata": {},
   "outputs": [
    {
     "data": {
      "text/plain": [
       "0       98119\n",
       "1       98119\n",
       "2       98119\n",
       "3       98119\n",
       "4       98119\n",
       "        ...  \n",
       "3813    98107\n",
       "3814    98102\n",
       "3815    98178\n",
       "3816    98112\n",
       "3817    98109\n",
       "Name: zipcode, Length: 3818, dtype: object"
      ]
     },
     "execution_count": 35,
     "metadata": {},
     "output_type": "execute_result"
    }
   ],
   "source": [
    "listings_df['zipcode']"
   ]
  },
  {
   "cell_type": "code",
   "execution_count": 36,
   "id": "0e129849",
   "metadata": {
    "scrolled": false
   },
   "outputs": [
    {
     "data": {
      "text/html": [
       "<div>\n",
       "<style scoped>\n",
       "    .dataframe tbody tr th:only-of-type {\n",
       "        vertical-align: middle;\n",
       "    }\n",
       "\n",
       "    .dataframe tbody tr th {\n",
       "        vertical-align: top;\n",
       "    }\n",
       "\n",
       "    .dataframe thead th {\n",
       "        text-align: right;\n",
       "    }\n",
       "</style>\n",
       "<table border=\"1\" class=\"dataframe\">\n",
       "  <thead>\n",
       "    <tr style=\"text-align: right;\">\n",
       "      <th></th>\n",
       "      <th>price</th>\n",
       "      <th>weekly_price</th>\n",
       "      <th>monthly_price</th>\n",
       "      <th>cleaning_fee</th>\n",
       "      <th>security_deposit</th>\n",
       "      <th>extra_people</th>\n",
       "    </tr>\n",
       "  </thead>\n",
       "  <tbody>\n",
       "    <tr>\n",
       "      <th>0</th>\n",
       "      <td>85.0</td>\n",
       "      <td>NaN</td>\n",
       "      <td>NaN</td>\n",
       "      <td>NaN</td>\n",
       "      <td>NaN</td>\n",
       "      <td>5.0</td>\n",
       "    </tr>\n",
       "    <tr>\n",
       "      <th>1</th>\n",
       "      <td>150.0</td>\n",
       "      <td>1000.0</td>\n",
       "      <td>3000.0</td>\n",
       "      <td>40.0</td>\n",
       "      <td>100.0</td>\n",
       "      <td>0.0</td>\n",
       "    </tr>\n",
       "    <tr>\n",
       "      <th>2</th>\n",
       "      <td>975.0</td>\n",
       "      <td>NaN</td>\n",
       "      <td>NaN</td>\n",
       "      <td>300.0</td>\n",
       "      <td>1000.0</td>\n",
       "      <td>25.0</td>\n",
       "    </tr>\n",
       "    <tr>\n",
       "      <th>3</th>\n",
       "      <td>100.0</td>\n",
       "      <td>650.0</td>\n",
       "      <td>2300.0</td>\n",
       "      <td>NaN</td>\n",
       "      <td>NaN</td>\n",
       "      <td>0.0</td>\n",
       "    </tr>\n",
       "    <tr>\n",
       "      <th>4</th>\n",
       "      <td>450.0</td>\n",
       "      <td>NaN</td>\n",
       "      <td>NaN</td>\n",
       "      <td>125.0</td>\n",
       "      <td>700.0</td>\n",
       "      <td>15.0</td>\n",
       "    </tr>\n",
       "    <tr>\n",
       "      <th>...</th>\n",
       "      <td>...</td>\n",
       "      <td>...</td>\n",
       "      <td>...</td>\n",
       "      <td>...</td>\n",
       "      <td>...</td>\n",
       "      <td>...</td>\n",
       "    </tr>\n",
       "    <tr>\n",
       "      <th>3813</th>\n",
       "      <td>359.0</td>\n",
       "      <td>NaN</td>\n",
       "      <td>NaN</td>\n",
       "      <td>230.0</td>\n",
       "      <td>NaN</td>\n",
       "      <td>0.0</td>\n",
       "    </tr>\n",
       "    <tr>\n",
       "      <th>3814</th>\n",
       "      <td>79.0</td>\n",
       "      <td>NaN</td>\n",
       "      <td>NaN</td>\n",
       "      <td>50.0</td>\n",
       "      <td>500.0</td>\n",
       "      <td>25.0</td>\n",
       "    </tr>\n",
       "    <tr>\n",
       "      <th>3815</th>\n",
       "      <td>93.0</td>\n",
       "      <td>450.0</td>\n",
       "      <td>NaN</td>\n",
       "      <td>35.0</td>\n",
       "      <td>250.0</td>\n",
       "      <td>20.0</td>\n",
       "    </tr>\n",
       "    <tr>\n",
       "      <th>3816</th>\n",
       "      <td>99.0</td>\n",
       "      <td>NaN</td>\n",
       "      <td>NaN</td>\n",
       "      <td>45.0</td>\n",
       "      <td>300.0</td>\n",
       "      <td>0.0</td>\n",
       "    </tr>\n",
       "    <tr>\n",
       "      <th>3817</th>\n",
       "      <td>87.0</td>\n",
       "      <td>NaN</td>\n",
       "      <td>NaN</td>\n",
       "      <td>NaN</td>\n",
       "      <td>NaN</td>\n",
       "      <td>0.0</td>\n",
       "    </tr>\n",
       "  </tbody>\n",
       "</table>\n",
       "<p>3818 rows × 6 columns</p>\n",
       "</div>"
      ],
      "text/plain": [
       "      price  weekly_price  monthly_price  cleaning_fee  security_deposit  \\\n",
       "0      85.0           NaN            NaN           NaN               NaN   \n",
       "1     150.0        1000.0         3000.0          40.0             100.0   \n",
       "2     975.0           NaN            NaN         300.0            1000.0   \n",
       "3     100.0         650.0         2300.0           NaN               NaN   \n",
       "4     450.0           NaN            NaN         125.0             700.0   \n",
       "...     ...           ...            ...           ...               ...   \n",
       "3813  359.0           NaN            NaN         230.0               NaN   \n",
       "3814   79.0           NaN            NaN          50.0             500.0   \n",
       "3815   93.0         450.0            NaN          35.0             250.0   \n",
       "3816   99.0           NaN            NaN          45.0             300.0   \n",
       "3817   87.0           NaN            NaN           NaN               NaN   \n",
       "\n",
       "      extra_people  \n",
       "0              5.0  \n",
       "1              0.0  \n",
       "2             25.0  \n",
       "3              0.0  \n",
       "4             15.0  \n",
       "...            ...  \n",
       "3813           0.0  \n",
       "3814          25.0  \n",
       "3815          20.0  \n",
       "3816           0.0  \n",
       "3817           0.0  \n",
       "\n",
       "[3818 rows x 6 columns]"
      ]
     },
     "execution_count": 36,
     "metadata": {},
     "output_type": "execute_result"
    }
   ],
   "source": [
    "#Comparing the columns that have prices like values, for choice a decision to fill the nan values.\n",
    "listings_df[['price', 'weekly_price', 'monthly_price', 'cleaning_fee', 'security_deposit', 'extra_people']]"
   ]
  },
  {
   "cell_type": "code",
   "execution_count": 37,
   "id": "96065a5c",
   "metadata": {},
   "outputs": [],
   "source": [
    "prices_monthly_weekly = round(listings_df['monthly_price']/listings_df['weekly_price'], 0)\n",
    "prices_normal_monthly = round(listings_df['monthly_price']/listings_df['price'], 0)\n",
    "prices_normal_weekly = round(listings_df['weekly_price']/listings_df['price'], 0)\n",
    "prices_cleanfee = round(listings_df['price']/listings_df['cleaning_fee'], 0)\n",
    "prices_securitydeposit = round(listings_df['price']/listings_df['security_deposit'], 0)"
   ]
  },
  {
   "cell_type": "code",
   "execution_count": 38,
   "id": "88a1d866",
   "metadata": {},
   "outputs": [],
   "source": [
    "#prices_monthly_weekly.value_counts()\n",
    "#prices_normal_weekly.value_counts()\n",
    "#prices_normal_monthly.value_counts()\n",
    "#prices_cleanfee.value_counts()\n",
    "#prices_securitydeposit.value_counts()"
   ]
  },
  {
   "cell_type": "code",
   "execution_count": 39,
   "id": "ad6cdc14",
   "metadata": {
    "scrolled": false
   },
   "outputs": [],
   "source": [
    "listings_df['extra_people'] = listings_df['extra_people'].fillna(listings_df['extra_people'].mean())"
   ]
  },
  {
   "cell_type": "code",
   "execution_count": 40,
   "id": "69e16553",
   "metadata": {},
   "outputs": [],
   "source": [
    "listings_df['cleaning_fee'] = listings_df['cleaning_fee'].fillna(listings_df['price']*random.choice([1,2,3,4]))"
   ]
  },
  {
   "cell_type": "code",
   "execution_count": 41,
   "id": "2f6e1ad3",
   "metadata": {},
   "outputs": [],
   "source": [
    "listings_df['security_deposit'] = listings_df['security_deposit'].fillna(listings_df['price']*random.choice([1,]))"
   ]
  },
  {
   "cell_type": "code",
   "execution_count": 42,
   "id": "08d9e475",
   "metadata": {},
   "outputs": [],
   "source": [
    "listings_df['weekly_price'] = listings_df['weekly_price'].fillna(listings_df['price']*6.5)"
   ]
  },
  {
   "cell_type": "code",
   "execution_count": 43,
   "id": "ed517d4e",
   "metadata": {},
   "outputs": [],
   "source": [
    "listings_df['monthly_price'] = listings_df['monthly_price'].fillna(listings_df['weekly_price']*3.5)"
   ]
  },
  {
   "cell_type": "code",
   "execution_count": 44,
   "id": "1155106e",
   "metadata": {
    "scrolled": false
   },
   "outputs": [
    {
     "data": {
      "text/html": [
       "<div>\n",
       "<style scoped>\n",
       "    .dataframe tbody tr th:only-of-type {\n",
       "        vertical-align: middle;\n",
       "    }\n",
       "\n",
       "    .dataframe tbody tr th {\n",
       "        vertical-align: top;\n",
       "    }\n",
       "\n",
       "    .dataframe thead th {\n",
       "        text-align: right;\n",
       "    }\n",
       "</style>\n",
       "<table border=\"1\" class=\"dataframe\">\n",
       "  <thead>\n",
       "    <tr style=\"text-align: right;\">\n",
       "      <th></th>\n",
       "      <th>price</th>\n",
       "      <th>weekly_price</th>\n",
       "      <th>monthly_price</th>\n",
       "      <th>cleaning_fee</th>\n",
       "      <th>security_deposit</th>\n",
       "      <th>extra_people</th>\n",
       "    </tr>\n",
       "  </thead>\n",
       "  <tbody>\n",
       "    <tr>\n",
       "      <th>0</th>\n",
       "      <td>85.0</td>\n",
       "      <td>552.5</td>\n",
       "      <td>1933.75</td>\n",
       "      <td>170.0</td>\n",
       "      <td>85.0</td>\n",
       "      <td>5.0</td>\n",
       "    </tr>\n",
       "    <tr>\n",
       "      <th>1</th>\n",
       "      <td>150.0</td>\n",
       "      <td>1000.0</td>\n",
       "      <td>3000.00</td>\n",
       "      <td>40.0</td>\n",
       "      <td>100.0</td>\n",
       "      <td>0.0</td>\n",
       "    </tr>\n",
       "    <tr>\n",
       "      <th>2</th>\n",
       "      <td>975.0</td>\n",
       "      <td>6337.5</td>\n",
       "      <td>22181.25</td>\n",
       "      <td>300.0</td>\n",
       "      <td>1000.0</td>\n",
       "      <td>25.0</td>\n",
       "    </tr>\n",
       "    <tr>\n",
       "      <th>3</th>\n",
       "      <td>100.0</td>\n",
       "      <td>650.0</td>\n",
       "      <td>2300.00</td>\n",
       "      <td>200.0</td>\n",
       "      <td>100.0</td>\n",
       "      <td>0.0</td>\n",
       "    </tr>\n",
       "    <tr>\n",
       "      <th>4</th>\n",
       "      <td>450.0</td>\n",
       "      <td>2925.0</td>\n",
       "      <td>10237.50</td>\n",
       "      <td>125.0</td>\n",
       "      <td>700.0</td>\n",
       "      <td>15.0</td>\n",
       "    </tr>\n",
       "    <tr>\n",
       "      <th>...</th>\n",
       "      <td>...</td>\n",
       "      <td>...</td>\n",
       "      <td>...</td>\n",
       "      <td>...</td>\n",
       "      <td>...</td>\n",
       "      <td>...</td>\n",
       "    </tr>\n",
       "    <tr>\n",
       "      <th>3813</th>\n",
       "      <td>359.0</td>\n",
       "      <td>2333.5</td>\n",
       "      <td>8167.25</td>\n",
       "      <td>230.0</td>\n",
       "      <td>359.0</td>\n",
       "      <td>0.0</td>\n",
       "    </tr>\n",
       "    <tr>\n",
       "      <th>3814</th>\n",
       "      <td>79.0</td>\n",
       "      <td>513.5</td>\n",
       "      <td>1797.25</td>\n",
       "      <td>50.0</td>\n",
       "      <td>500.0</td>\n",
       "      <td>25.0</td>\n",
       "    </tr>\n",
       "    <tr>\n",
       "      <th>3815</th>\n",
       "      <td>93.0</td>\n",
       "      <td>450.0</td>\n",
       "      <td>1575.00</td>\n",
       "      <td>35.0</td>\n",
       "      <td>250.0</td>\n",
       "      <td>20.0</td>\n",
       "    </tr>\n",
       "    <tr>\n",
       "      <th>3816</th>\n",
       "      <td>99.0</td>\n",
       "      <td>643.5</td>\n",
       "      <td>2252.25</td>\n",
       "      <td>45.0</td>\n",
       "      <td>300.0</td>\n",
       "      <td>0.0</td>\n",
       "    </tr>\n",
       "    <tr>\n",
       "      <th>3817</th>\n",
       "      <td>87.0</td>\n",
       "      <td>565.5</td>\n",
       "      <td>1979.25</td>\n",
       "      <td>174.0</td>\n",
       "      <td>87.0</td>\n",
       "      <td>0.0</td>\n",
       "    </tr>\n",
       "  </tbody>\n",
       "</table>\n",
       "<p>3818 rows × 6 columns</p>\n",
       "</div>"
      ],
      "text/plain": [
       "      price  weekly_price  monthly_price  cleaning_fee  security_deposit  \\\n",
       "0      85.0         552.5        1933.75         170.0              85.0   \n",
       "1     150.0        1000.0        3000.00          40.0             100.0   \n",
       "2     975.0        6337.5       22181.25         300.0            1000.0   \n",
       "3     100.0         650.0        2300.00         200.0             100.0   \n",
       "4     450.0        2925.0       10237.50         125.0             700.0   \n",
       "...     ...           ...            ...           ...               ...   \n",
       "3813  359.0        2333.5        8167.25         230.0             359.0   \n",
       "3814   79.0         513.5        1797.25          50.0             500.0   \n",
       "3815   93.0         450.0        1575.00          35.0             250.0   \n",
       "3816   99.0         643.5        2252.25          45.0             300.0   \n",
       "3817   87.0         565.5        1979.25         174.0              87.0   \n",
       "\n",
       "      extra_people  \n",
       "0              5.0  \n",
       "1              0.0  \n",
       "2             25.0  \n",
       "3              0.0  \n",
       "4             15.0  \n",
       "...            ...  \n",
       "3813           0.0  \n",
       "3814          25.0  \n",
       "3815          20.0  \n",
       "3816           0.0  \n",
       "3817           0.0  \n",
       "\n",
       "[3818 rows x 6 columns]"
      ]
     },
     "execution_count": 44,
     "metadata": {},
     "output_type": "execute_result"
    }
   ],
   "source": [
    "#Comparing again without nan values\n",
    "listings_df[['price', 'weekly_price', 'monthly_price', 'cleaning_fee', 'security_deposit', 'extra_people']]"
   ]
  },
  {
   "cell_type": "markdown",
   "id": "30d8f60a",
   "metadata": {},
   "source": [
    "Features that are objects, but should be int or float: 'host_response_rate', 'host_acceptance_rate', 'zipcode', 'price', 'security_deposit', 'cleaning_fee', 'extra_people', 'weekly_price', 'monthly_price'\n",
    "\n",
    "Luego buscare como rellenar los valores NaN de las variables que tienen valores NaN, ya sea usando las medias, o usando groupby, asi tambien usarlo para las columnas con valores binarios, hay varias, asi que debo sacar las columnas que tengan valores binarios.\n",
    "\n",
    "\n",
    "Centrate en buscar las features que necesitas para responder las preguntas y solo trabaja en ellas, no pierdas el tiempo en las demas.\n"
   ]
  },
  {
   "cell_type": "code",
   "execution_count": null,
   "id": "8e330a25",
   "metadata": {},
   "outputs": [],
   "source": []
  }
 ],
 "metadata": {
  "kernelspec": {
   "display_name": "Python 3 (ipykernel)",
   "language": "python",
   "name": "python3"
  },
  "language_info": {
   "codemirror_mode": {
    "name": "ipython",
    "version": 3
   },
   "file_extension": ".py",
   "mimetype": "text/x-python",
   "name": "python",
   "nbconvert_exporter": "python",
   "pygments_lexer": "ipython3",
   "version": "3.9.12"
  }
 },
 "nbformat": 4,
 "nbformat_minor": 5
}

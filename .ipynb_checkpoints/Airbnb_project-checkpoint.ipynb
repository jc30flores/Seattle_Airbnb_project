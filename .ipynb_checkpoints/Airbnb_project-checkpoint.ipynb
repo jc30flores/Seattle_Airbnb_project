{
 "cells": [
  {
   "cell_type": "markdown",
   "id": "c19f9cc0",
   "metadata": {},
   "source": [
    "- Can you describe the vibe of each Seattle neighborhood using listing descriptions?\n",
    "- What are the busiest times of the year to visit Seattle? By how much do prices spike?\n",
    "- Is there a general upward trend of both new Airbnb listings and total Airbnb visitors to Seattle?\n"
   ]
  },
  {
   "cell_type": "code",
   "execution_count": 1,
   "id": "f8de8489",
   "metadata": {},
   "outputs": [],
   "source": [
    "import numpy as np\n",
    "import pandas as pd\n",
    "import matplotlib.pyplot as plt\n",
    "import seaborn as sns\n",
    "from zipfile import ZipFile\n",
    "import random\n",
    "%matplotlib inline"
   ]
  },
  {
   "cell_type": "code",
   "execution_count": 2,
   "id": "5d0d520e",
   "metadata": {},
   "outputs": [],
   "source": [
    "#Extracting the archive.zip, this folder contain the 3 csv files.\n",
    "#with ZipFile('archive.zip', 'r') as zip:\n",
    "    #zip.extractall('datasets')"
   ]
  },
  {
   "cell_type": "code",
   "execution_count": 3,
   "id": "2fcb58e3",
   "metadata": {},
   "outputs": [],
   "source": [
    "#Saving the csv files into the data frames.\n",
    "review_df = pd.read_csv('datasets/reviews.csv')\n",
    "calendar_df = pd.read_csv('datasets/calendar.csv')\n",
    "listings_df = pd.read_csv('datasets/listings.csv')"
   ]
  },
  {
   "cell_type": "code",
   "execution_count": 4,
   "id": "6c9f3a4d",
   "metadata": {},
   "outputs": [],
   "source": [
    "#review_df.head()\n",
    "#review_df.info()\n",
    "#review_df.describe()"
   ]
  },
  {
   "cell_type": "code",
   "execution_count": 5,
   "id": "4cbc724a",
   "metadata": {},
   "outputs": [
    {
     "data": {
      "text/html": [
       "<div>\n",
       "<style scoped>\n",
       "    .dataframe tbody tr th:only-of-type {\n",
       "        vertical-align: middle;\n",
       "    }\n",
       "\n",
       "    .dataframe tbody tr th {\n",
       "        vertical-align: top;\n",
       "    }\n",
       "\n",
       "    .dataframe thead th {\n",
       "        text-align: right;\n",
       "    }\n",
       "</style>\n",
       "<table border=\"1\" class=\"dataframe\">\n",
       "  <thead>\n",
       "    <tr style=\"text-align: right;\">\n",
       "      <th></th>\n",
       "      <th>listing_id</th>\n",
       "      <th>date</th>\n",
       "      <th>available</th>\n",
       "      <th>price</th>\n",
       "    </tr>\n",
       "  </thead>\n",
       "  <tbody>\n",
       "    <tr>\n",
       "      <th>0</th>\n",
       "      <td>241032</td>\n",
       "      <td>2016-01-04</td>\n",
       "      <td>t</td>\n",
       "      <td>$85.00</td>\n",
       "    </tr>\n",
       "    <tr>\n",
       "      <th>1</th>\n",
       "      <td>241032</td>\n",
       "      <td>2016-01-05</td>\n",
       "      <td>t</td>\n",
       "      <td>$85.00</td>\n",
       "    </tr>\n",
       "    <tr>\n",
       "      <th>2</th>\n",
       "      <td>241032</td>\n",
       "      <td>2016-01-06</td>\n",
       "      <td>f</td>\n",
       "      <td>NaN</td>\n",
       "    </tr>\n",
       "    <tr>\n",
       "      <th>3</th>\n",
       "      <td>241032</td>\n",
       "      <td>2016-01-07</td>\n",
       "      <td>f</td>\n",
       "      <td>NaN</td>\n",
       "    </tr>\n",
       "    <tr>\n",
       "      <th>4</th>\n",
       "      <td>241032</td>\n",
       "      <td>2016-01-08</td>\n",
       "      <td>f</td>\n",
       "      <td>NaN</td>\n",
       "    </tr>\n",
       "  </tbody>\n",
       "</table>\n",
       "</div>"
      ],
      "text/plain": [
       "   listing_id        date available   price\n",
       "0      241032  2016-01-04         t  $85.00\n",
       "1      241032  2016-01-05         t  $85.00\n",
       "2      241032  2016-01-06         f     NaN\n",
       "3      241032  2016-01-07         f     NaN\n",
       "4      241032  2016-01-08         f     NaN"
      ]
     },
     "execution_count": 5,
     "metadata": {},
     "output_type": "execute_result"
    }
   ],
   "source": [
    "calendar_df.head()\n",
    "#calendar_df.info()\n",
    "#calendar_df.describe()"
   ]
  },
  {
   "cell_type": "code",
   "execution_count": 6,
   "id": "a6462d1a",
   "metadata": {
    "scrolled": true
   },
   "outputs": [
    {
     "name": "stdout",
     "output_type": "stream",
     "text": [
      "<class 'pandas.core.frame.DataFrame'>\n",
      "RangeIndex: 3818 entries, 0 to 3817\n",
      "Data columns (total 92 columns):\n",
      " #   Column                            Non-Null Count  Dtype  \n",
      "---  ------                            --------------  -----  \n",
      " 0   id                                3818 non-null   int64  \n",
      " 1   listing_url                       3818 non-null   object \n",
      " 2   scrape_id                         3818 non-null   int64  \n",
      " 3   last_scraped                      3818 non-null   object \n",
      " 4   name                              3818 non-null   object \n",
      " 5   summary                           3641 non-null   object \n",
      " 6   space                             3249 non-null   object \n",
      " 7   description                       3818 non-null   object \n",
      " 8   experiences_offered               3818 non-null   object \n",
      " 9   neighborhood_overview             2786 non-null   object \n",
      " 10  notes                             2212 non-null   object \n",
      " 11  transit                           2884 non-null   object \n",
      " 12  thumbnail_url                     3498 non-null   object \n",
      " 13  medium_url                        3498 non-null   object \n",
      " 14  picture_url                       3818 non-null   object \n",
      " 15  xl_picture_url                    3498 non-null   object \n",
      " 16  host_id                           3818 non-null   int64  \n",
      " 17  host_url                          3818 non-null   object \n",
      " 18  host_name                         3816 non-null   object \n",
      " 19  host_since                        3816 non-null   object \n",
      " 20  host_location                     3810 non-null   object \n",
      " 21  host_about                        2959 non-null   object \n",
      " 22  host_response_time                3295 non-null   object \n",
      " 23  host_response_rate                3295 non-null   object \n",
      " 24  host_acceptance_rate              3045 non-null   object \n",
      " 25  host_is_superhost                 3816 non-null   object \n",
      " 26  host_thumbnail_url                3816 non-null   object \n",
      " 27  host_picture_url                  3816 non-null   object \n",
      " 28  host_neighbourhood                3518 non-null   object \n",
      " 29  host_listings_count               3816 non-null   float64\n",
      " 30  host_total_listings_count         3816 non-null   float64\n",
      " 31  host_verifications                3818 non-null   object \n",
      " 32  host_has_profile_pic              3816 non-null   object \n",
      " 33  host_identity_verified            3816 non-null   object \n",
      " 34  street                            3818 non-null   object \n",
      " 35  neighbourhood                     3402 non-null   object \n",
      " 36  neighbourhood_cleansed            3818 non-null   object \n",
      " 37  neighbourhood_group_cleansed      3818 non-null   object \n",
      " 38  city                              3818 non-null   object \n",
      " 39  state                             3818 non-null   object \n",
      " 40  zipcode                           3811 non-null   object \n",
      " 41  market                            3818 non-null   object \n",
      " 42  smart_location                    3818 non-null   object \n",
      " 43  country_code                      3818 non-null   object \n",
      " 44  country                           3818 non-null   object \n",
      " 45  latitude                          3818 non-null   float64\n",
      " 46  longitude                         3818 non-null   float64\n",
      " 47  is_location_exact                 3818 non-null   object \n",
      " 48  property_type                     3817 non-null   object \n",
      " 49  room_type                         3818 non-null   object \n",
      " 50  accommodates                      3818 non-null   int64  \n",
      " 51  bathrooms                         3802 non-null   float64\n",
      " 52  bedrooms                          3812 non-null   float64\n",
      " 53  beds                              3817 non-null   float64\n",
      " 54  bed_type                          3818 non-null   object \n",
      " 55  amenities                         3818 non-null   object \n",
      " 56  square_feet                       97 non-null     float64\n",
      " 57  price                             3818 non-null   object \n",
      " 58  weekly_price                      2009 non-null   object \n",
      " 59  monthly_price                     1517 non-null   object \n",
      " 60  security_deposit                  1866 non-null   object \n",
      " 61  cleaning_fee                      2788 non-null   object \n",
      " 62  guests_included                   3818 non-null   int64  \n",
      " 63  extra_people                      3818 non-null   object \n",
      " 64  minimum_nights                    3818 non-null   int64  \n",
      " 65  maximum_nights                    3818 non-null   int64  \n",
      " 66  calendar_updated                  3818 non-null   object \n",
      " 67  has_availability                  3818 non-null   object \n",
      " 68  availability_30                   3818 non-null   int64  \n",
      " 69  availability_60                   3818 non-null   int64  \n",
      " 70  availability_90                   3818 non-null   int64  \n",
      " 71  availability_365                  3818 non-null   int64  \n",
      " 72  calendar_last_scraped             3818 non-null   object \n",
      " 73  number_of_reviews                 3818 non-null   int64  \n",
      " 74  first_review                      3191 non-null   object \n",
      " 75  last_review                       3191 non-null   object \n",
      " 76  review_scores_rating              3171 non-null   float64\n",
      " 77  review_scores_accuracy            3160 non-null   float64\n",
      " 78  review_scores_cleanliness         3165 non-null   float64\n",
      " 79  review_scores_checkin             3160 non-null   float64\n",
      " 80  review_scores_communication       3167 non-null   float64\n",
      " 81  review_scores_location            3163 non-null   float64\n",
      " 82  review_scores_value               3162 non-null   float64\n",
      " 83  requires_license                  3818 non-null   object \n",
      " 84  license                           0 non-null      float64\n",
      " 85  jurisdiction_names                3818 non-null   object \n",
      " 86  instant_bookable                  3818 non-null   object \n",
      " 87  cancellation_policy               3818 non-null   object \n",
      " 88  require_guest_profile_picture     3818 non-null   object \n",
      " 89  require_guest_phone_verification  3818 non-null   object \n",
      " 90  calculated_host_listings_count    3818 non-null   int64  \n",
      " 91  reviews_per_month                 3191 non-null   float64\n",
      "dtypes: float64(17), int64(13), object(62)\n",
      "memory usage: 2.7+ MB\n"
     ]
    }
   ],
   "source": [
    "#listings_df.head()\n",
    "listings_df.info()\n",
    "#listings_df.describe()"
   ]
  },
  {
   "cell_type": "markdown",
   "id": "1628dba5",
   "metadata": {},
   "source": [
    "Creare una variable que contenga las columnas que tienen valores NaN, para recurrir a esta cuando necesite investigar una columna en especifico, aparte creare otra variable que contengan las columnas que sobrepasen el 25% de valores NaN y eliminare las columnas que contengan mas del 75% de valores NaN. \n",
    "\n",
    "Solo limpiare y procesare las columnas que vaya a necesitar en el proyecto para resolver las preguntas, asi no perdere tiempo limpiando columnas que no son importantes para responder mis preguntas."
   ]
  },
  {
   "cell_type": "code",
   "execution_count": 7,
   "id": "6daff51a",
   "metadata": {},
   "outputs": [],
   "source": [
    "all_nulls_col = listings_df[listings_df.columns[listings_df.isnull().sum() > 0]]\n",
    "#all_nulls_col.info()"
   ]
  },
  {
   "cell_type": "code",
   "execution_count": 8,
   "id": "f2ea8e17",
   "metadata": {},
   "outputs": [],
   "source": [
    "listings_nulls_col_25 = listings_df[listings_df.columns[listings_df.isnull().sum()/listings_df.shape[0] > 0.25]]\n",
    "\n",
    "#listings_nulls_col_25.info()\n",
    "\n",
    "# More 75%: 'square_feet', 'license' \n",
    "# More 50%: 'monthly_price', 'security_deposit'\n",
    "# More 40%: 'weekly_price', 'notes'\n",
    "# More 25%: 'neighborhood_overview', 'cleaning_fee'"
   ]
  },
  {
   "cell_type": "code",
   "execution_count": 9,
   "id": "5993257f",
   "metadata": {},
   "outputs": [],
   "source": [
    "#Dropping this columns because have more than 75% of NaN values.\n",
    "listings_df = listings_df.drop(['square_feet', 'license'], axis=1)"
   ]
  },
  {
   "cell_type": "markdown",
   "id": "4931743e",
   "metadata": {},
   "source": [
    "# Question 1:\n",
    "\n",
    "### Can you describe the vibe of each Seattle neighborhood using listing descriptions?\n",
    "\n",
    "Para resolver esta pregunta usare listings_df, la columna 'review_scores_location' que contiene los scores de todas las reviews que se les han otorgado a los diferentes neighborhoods de Seattle, la columna 'neighborhood' para ver los diferentes neighborhood que hay y saber the mean scores the cada uno de ellos. "
   ]
  },
  {
   "cell_type": "code",
   "execution_count": 10,
   "id": "bba175f0",
   "metadata": {},
   "outputs": [],
   "source": [
    "#Filling the NaN values in the 'review_scores_location' with the mean().\n",
    "listings_df['review_scores_location'] = listings_df['review_scores_location'].fillna(listings_df['review_scores_location'].mean())\n",
    "\n",
    "#And changing the values to int, using df[column].astype(type).\n",
    "listings_df['review_scores_location'] = listings_df['review_scores_location'].astype(int)"
   ]
  },
  {
   "cell_type": "code",
   "execution_count": 11,
   "id": "41ca5798",
   "metadata": {},
   "outputs": [
    {
     "data": {
      "image/png": "[encoded data removed]",
      "text/plain": [
       "<Figure size 432x288 with 1 Axes>"
      ]
     },
     "metadata": {
      "needs_background": "light"
     },
     "output_type": "display_data"
    }
   ],
   "source": [
    "#Viewing the cantity of each value.\n",
    "(listings_df['review_scores_location'].value_counts()).plot(kind='bar');\n",
    "plt.title('Score of Location Reviews (\"Neighbourhood\")');"
   ]
  },
  {
   "cell_type": "code",
   "execution_count": 12,
   "id": "0d9493be",
   "metadata": {
    "scrolled": false
   },
   "outputs": [
    {
     "data": {
      "text/plain": [
       "10    2122\n",
       "9     1539\n",
       "8      129\n",
       "7       19\n",
       "6        8\n",
       "4        1\n",
       "Name: review_scores_location, dtype: int64"
      ]
     },
     "execution_count": 12,
     "metadata": {},
     "output_type": "execute_result"
    }
   ],
   "source": [
    "listings_df['review_scores_location'].value_counts()"
   ]
  },
  {
   "cell_type": "code",
   "execution_count": 13,
   "id": "9a695e5e",
   "metadata": {},
   "outputs": [],
   "source": [
    "#Looking the mean scores for each neighborhood\n",
    "mean_score_neighborhood = listings_df.groupby('neighbourhood').mean()['review_scores_location'].sort_values().astype(int)"
   ]
  },
  {
   "cell_type": "code",
   "execution_count": 14,
   "id": "e323f209",
   "metadata": {
    "scrolled": true
   },
   "outputs": [
    {
     "data": {
      "text/plain": [
       "neighbourhood\n",
       "Pinehurst                 8\n",
       "South Beacon Hill         8\n",
       "South Park                8\n",
       "Holly Park                8\n",
       "Highland Park             8\n",
       "Arbor Heights             8\n",
       "Industrial District       8\n",
       "Rainier Beach             8\n",
       "Dunlap                    8\n",
       "Interbay                  8\n",
       "South Delridge            8\n",
       "Cedar Park                8\n",
       "Brighton                  9\n",
       "Olympic Hills             9\n",
       "North College Park        9\n",
       "Fairmount Park            9\n",
       "International District    9\n",
       "Columbia City             9\n",
       "Haller Lake               9\n",
       "Atlantic                  9\n",
       "North Beacon Hill         9\n",
       "Pioneer Square            9\n",
       "Georgetown                9\n",
       "University District       9\n",
       "Mount Baker               9\n",
       "Wedgewood                 9\n",
       "Victory Heights           9\n",
       "Crown Hill                9\n",
       "Riverview                 9\n",
       "Ravenna                   9\n",
       "Greenwood                 9\n",
       "Bitter Lake               9\n",
       "Seward Park               9\n",
       "Broadview                 9\n",
       "Meadowbrook               9\n",
       "Leschi                    9\n",
       "High Point                9\n",
       "Maple Leaf                9\n",
       "North Delridge            9\n",
       "The Junction              9\n",
       "Name: review_scores_location, dtype: int64"
      ]
     },
     "execution_count": 14,
     "metadata": {},
     "output_type": "execute_result"
    }
   ],
   "source": [
    "#The firt 40 neighbourhoods, with their mean score review.\n",
    "mean_score_neighborhood[:40]"
   ]
  },
  {
   "cell_type": "code",
   "execution_count": 15,
   "id": "e2c680ca",
   "metadata": {
    "scrolled": true
   },
   "outputs": [
    {
     "data": {
      "text/plain": [
       "neighbourhood\n",
       "Broadway                      9\n",
       "Westlake                      9\n",
       "Eastlake                      9\n",
       "Magnolia                      9\n",
       "South Lake Union              9\n",
       "Roosevelt                     9\n",
       "Minor                         9\n",
       "View Ridge                    9\n",
       "Yesler Terrace                9\n",
       "Licton Springs                9\n",
       "Bryant                        9\n",
       "Mathews Beach                 9\n",
       "North Beach/Blue Ridge        9\n",
       "Madison Park                  9\n",
       "Alki                          9\n",
       "Phinney Ridge                 9\n",
       "Windermere                    9\n",
       "Queen Anne                    9\n",
       "Harrison/Denny-Blaine         9\n",
       "First Hill                    9\n",
       "Montlake                      9\n",
       "Stevens                       9\n",
       "Portage Bay                   9\n",
       "Madrona                       9\n",
       "Wallingford                   9\n",
       "Ballard                       9\n",
       "Seaview                       9\n",
       "Gatewood                      9\n",
       "Lower Queen Anne              9\n",
       "Capitol Hill                  9\n",
       "Fremont                       9\n",
       "Pike Place Market             9\n",
       "Belltown                      9\n",
       "Green Lake                    9\n",
       "North Admiral                 9\n",
       "Laurelhurst                   9\n",
       "Genesee                       9\n",
       "Fauntleroy                    9\n",
       "Central Business District     9\n",
       "Pike Market                  10\n",
       "Roxhill                      10\n",
       "Name: review_scores_location, dtype: int64"
      ]
     },
     "execution_count": 15,
     "metadata": {},
     "output_type": "execute_result"
    }
   ],
   "source": [
    "#The last 41 neighbourhoods, with their mean score review.\n",
    "mean_score_neighborhood[40:]"
   ]
  },
  {
   "cell_type": "code",
   "execution_count": 16,
   "id": "920d7fc3",
   "metadata": {},
   "outputs": [
    {
     "data": {
      "text/plain": [
       "9"
      ]
     },
     "execution_count": 16,
     "metadata": {},
     "output_type": "execute_result"
    }
   ],
   "source": [
    "#The mean score of University District.\n",
    "mean_score_neighborhood['University District']"
   ]
  },
  {
   "cell_type": "markdown",
   "id": "efacf2d6",
   "metadata": {},
   "source": [
    "Si vemos los scores que se han otorgado, tenemos unicamente un review malo, que se le otorgo un score de 4, y 8 reviews que se les otorgo un score de 6, aunque tendre que ver uno por uno si este score es malo o bueno."
   ]
  },
  {
   "cell_type": "code",
   "execution_count": 17,
   "id": "fd49d215",
   "metadata": {},
   "outputs": [
    {
     "data": {
      "text/plain": [
       "[\"It is located in the bustling and vibrant University district. A rare 100 walk score. It is within five minutes' walking distance to the University of Washington. You will have access to a diverse array of restaurants, shops and activities.\"]"
      ]
     },
     "execution_count": 17,
     "metadata": {},
     "output_type": "execute_result"
    }
   ],
   "source": [
    "#The review with the value 4 as score.\n",
    "list(listings_df['neighborhood_overview'][listings_df['review_scores_location'] == 4])"
   ]
  },
  {
   "cell_type": "markdown",
   "id": "f3bb6baa",
   "metadata": {},
   "source": [
    "The review no es totalmente buena, pero a pesar que es el unico review con un puntaje de 4, tiene razon con su review, esta hablando sobre University District, e investigando los demas comentarios sobre este district, hablan mas o menos de lo mismo con la unica diferencia que a este usuario le molesta lo que a otros no, vivir cerca de la Universidad es ventaja para otros, pero para este usuario es todo lo contrario, el Distrito no es malo, tiene una de las mejores mean score con un valor de 9, y la mayoria de reviews hablan muy bien de este neighborhood. \n",
    "\n",
    "El usuario debio elegir un lugar acorde a sus gustos y necesidades para hospedarse."
   ]
  },
  {
   "cell_type": "markdown",
   "id": "25b12aba",
   "metadata": {},
   "source": [
    "### Answer\n",
    "\n",
    "Como podemos ver, todos los barrios de Seattle tienen buenas puntuaciones, y en promedio no bajan de 8, en total hay 8 calificaciones de 6, y al leerlas me di cuenta que hablaban bien del barrio, y hay 1 puntuacion de 4, la cual ya fue investigada y explicada. \n",
    "\n",
    "De ahi no tenemos malas reviews, todas son buenas, lo que indica que la vibra en los barrios de Seattle son buenas, y que debes elegir bien donde ir a hospedarte, segun tu tolerancia y comodidad."
   ]
  },
  {
   "cell_type": "markdown",
   "id": "4bf32628",
   "metadata": {},
   "source": [
    "# Question 2:\n",
    "\n",
    "### What are the busiest times of the year to visit Seattle? By how much do prices spike?"
   ]
  },
  {
   "cell_type": "code",
   "execution_count": 18,
   "id": "9f7036d3",
   "metadata": {},
   "outputs": [],
   "source": [
    "#Convert available values to [0,1], 0 for the value 't' this mean that is available.\n",
    "#And 1 for the value 'f' mean is not available.\n",
    "calendar_df['available'] = calendar_df['available'].replace('t', 0)\n",
    "calendar_df['available'] = calendar_df['available'].replace('f', 1)"
   ]
  },
  {
   "cell_type": "code",
   "execution_count": 19,
   "id": "e33e862a",
   "metadata": {},
   "outputs": [],
   "source": [
    "#Convert the column price to float and remove the symbols '$' and ','\n",
    "calendar_df['price'] = calendar_df['price'].str.replace(\"[$,]\",\"\", regex=True).astype(float)"
   ]
  },
  {
   "cell_type": "code",
   "execution_count": 20,
   "id": "f25bf6a7",
   "metadata": {},
   "outputs": [],
   "source": [
    "calendar_df['date'] = calendar_df['date'].str.replace(\"-\", \"\")"
   ]
  },
  {
   "cell_type": "code",
   "execution_count": 21,
   "id": "f88492dd",
   "metadata": {
    "scrolled": false
   },
   "outputs": [],
   "source": [
    "calendar_df['date'] = pd.to_datetime(calendar_df['date'], format='%Y%m%d')"
   ]
  },
  {
   "cell_type": "code",
   "execution_count": 22,
   "id": "fb1ed3b6",
   "metadata": {},
   "outputs": [
    {
     "data": {
      "text/plain": [
       "85.0"
      ]
     },
     "execution_count": 22,
     "metadata": {},
     "output_type": "execute_result"
    }
   ],
   "source": [
    "calendar_df['price'][(calendar_df['listing_id'] == 241032)].mean()"
   ]
  },
  {
   "cell_type": "code",
   "execution_count": 26,
   "id": "04b720e5",
   "metadata": {},
   "outputs": [
    {
     "data": {
      "text/plain": [
       "3818"
      ]
     },
     "execution_count": 26,
     "metadata": {},
     "output_type": "execute_result"
    }
   ],
   "source": [
    "set_means = []\n",
    "for id_ in calendar_df['listing_id'].unique():\n",
    "    set_means.append(round(calendar_df['price'][calendar_df['listing_id'] == id_].mean(), 1))\n",
    "len(set_means)"
   ]
  },
  {
   "cell_type": "code",
   "execution_count": 27,
   "id": "86c980ac",
   "metadata": {},
   "outputs": [
    {
     "name": "stdout",
     "output_type": "stream",
     "text": [
      "<class 'pandas.core.frame.DataFrame'>\n",
      "RangeIndex: 1393570 entries, 0 to 1393569\n",
      "Data columns (total 4 columns):\n",
      " #   Column      Non-Null Count    Dtype         \n",
      "---  ------      --------------    -----         \n",
      " 0   listing_id  1393570 non-null  int64         \n",
      " 1   date        1393570 non-null  datetime64[ns]\n",
      " 2   available   1393570 non-null  int64         \n",
      " 3   price       934542 non-null   float64       \n",
      "dtypes: datetime64[ns](1), float64(1), int64(2)\n",
      "memory usage: 42.5 MB\n"
     ]
    }
   ],
   "source": [
    "calendar_df.info()"
   ]
  },
  {
   "cell_type": "code",
   "execution_count": 34,
   "id": "83caa3a4",
   "metadata": {},
   "outputs": [
    {
     "name": "stdout",
     "output_type": "stream",
     "text": [
      ".......................................!\n"
     ]
    }
   ],
   "source": [
    "#Filling the NaN values with the mean of each listing_id.\n",
    "for lst_id in set(calendar_df['listing_id'].unique()):\n",
    "    calendar_df['price'][calendar_df['listing_id'] == lst_id].fillna(round(calendar_df['price'][calendar_df['listing_id'] == lst_id].mean(),1), inplace=True)\n",
    "\n",
    "#And then filling the remaining nan values with the general mean.\n",
    "calendar_df['price'].fillna(calendar_df['price'].mean(), inplace=True)"
   ]
  },
  {
   "cell_type": "code",
   "execution_count": 41,
   "id": "c6109480",
   "metadata": {},
   "outputs": [
    {
     "data": {
      "text/plain": [
       "0           85.000000\n",
       "1           85.000000\n",
       "2           85.000000\n",
       "3           85.000000\n",
       "4           85.000000\n",
       "              ...    \n",
       "1393565    137.022777\n",
       "1393566    137.022777\n",
       "1393567    137.022777\n",
       "1393568    137.022777\n",
       "1393569    137.022777\n",
       "Name: price, Length: 1393570, dtype: float64"
      ]
     },
     "execution_count": 41,
     "metadata": {},
     "output_type": "execute_result"
    }
   ],
   "source": [
    "calendar_df['price']"
   ]
  },
  {
   "cell_type": "code",
   "execution_count": 40,
   "id": "5f0e9285",
   "metadata": {},
   "outputs": [],
   "source": [
    "date_group = calendar_df.groupby('date').sum().reset_index()"
   ]
  },
  {
   "cell_type": "markdown",
   "id": "142cb57f",
   "metadata": {},
   "source": [
    "Para arreglar los graph debo reemplazar los valores NaN en price, puedo hacerlo por listing_id, es lo mejor, ya que varian entre listing_id.\n",
    "\n",
    "las graficas ya fueron creadas, solo queda mejorarlas e interpretarlas mejor, y tendre completada la segunda pregunta."
   ]
  },
  {
   "cell_type": "code",
   "execution_count": 37,
   "id": "2feab0c7",
   "metadata": {
    "scrolled": true
   },
   "outputs": [
    {
     "data": {
      "image/png": "[encoded data removed]",
      "text/plain": [
       "<Figure size 432x288 with 1 Axes>"
      ]
     },
     "metadata": {
      "needs_background": "light"
     },
     "output_type": "display_data"
    }
   ],
   "source": [
    "plt.plot(date_group['date'], date_group['available'])\n",
    "plt.title('Booked Dates')\n",
    "plt.show()"
   ]
  },
  {
   "cell_type": "code",
   "execution_count": 38,
   "id": "d6b6572e",
   "metadata": {
    "scrolled": true
   },
   "outputs": [
    {
     "data": {
      "image/png": "[encoded data removed]",
      "text/plain": [
       "<Figure size 432x288 with 1 Axes>"
      ]
     },
     "metadata": {
      "needs_background": "light"
     },
     "output_type": "display_data"
    }
   ],
   "source": [
    "plt.plot(date_group['date'], date_group['price'])\n",
    "plt.title('Price by Date')\n",
    "plt.show()"
   ]
  },
  {
   "cell_type": "code",
   "execution_count": null,
   "id": "9d20beca",
   "metadata": {},
   "outputs": [],
   "source": []
  },
  {
   "cell_type": "code",
   "execution_count": 39,
   "id": "8100abfa",
   "metadata": {},
   "outputs": [
    {
     "name": "stderr",
     "output_type": "stream",
     "text": [
      "\n",
      "KeyboardInterrupt\n",
      "\n"
     ]
    }
   ],
   "source": [
    "#Changing the values str with the symbol $ to a int, and eliminated the symbol $.\n",
    "def price_str_to_float(df, *columns):\n",
    "    for col in columns:\n",
    "        for n in df[col]:\n",
    "            if type(n) != float:\n",
    "                df[col] = df[col].replace(n, float(n[1:].replace(',','')))\n",
    "price_str_to_float(listings_df, 'price', 'monthly_price', 'weekly_price', 'cleaning_fee', 'security_deposit', 'extra_people')"
   ]
  },
  {
   "cell_type": "code",
   "execution_count": null,
   "id": "67b80c29",
   "metadata": {},
   "outputs": [],
   "source": [
    "#Changing the values str with the symbol % to a int, and eliminated the symbol %.\n",
    "def porcentage_str_to_int(df, *columns):\n",
    "    for col in columns:\n",
    "        for n in df[col]:\n",
    "            if type(n) == str:\n",
    "                df[col] = df[col].replace(n, int(n[:-1]))\n",
    "porcentage_str_to_int(listings_df, 'host_response_rate', 'host_acceptance_rate')"
   ]
  },
  {
   "cell_type": "code",
   "execution_count": null,
   "id": "307c30fe",
   "metadata": {},
   "outputs": [],
   "source": [
    "listings_df['zipcode']"
   ]
  },
  {
   "cell_type": "code",
   "execution_count": null,
   "id": "0e129849",
   "metadata": {
    "scrolled": false
   },
   "outputs": [],
   "source": [
    "#Comparing the columns that have prices like values, for choice a decision to fill the nan values.\n",
    "listings_df[['price', 'weekly_price', 'monthly_price', 'cleaning_fee', 'security_deposit', 'extra_people']]"
   ]
  },
  {
   "cell_type": "code",
   "execution_count": null,
   "id": "96065a5c",
   "metadata": {},
   "outputs": [],
   "source": [
    "prices_monthly_weekly = round(listings_df['monthly_price']/listings_df['weekly_price'], 0)\n",
    "prices_normal_monthly = round(listings_df['monthly_price']/listings_df['price'], 0)\n",
    "prices_normal_weekly = round(listings_df['weekly_price']/listings_df['price'], 0)\n",
    "prices_cleanfee = round(listings_df['price']/listings_df['cleaning_fee'], 0)\n",
    "prices_securitydeposit = round(listings_df['price']/listings_df['security_deposit'], 0)"
   ]
  },
  {
   "cell_type": "code",
   "execution_count": null,
   "id": "88a1d866",
   "metadata": {},
   "outputs": [],
   "source": [
    "#prices_monthly_weekly.value_counts()\n",
    "#prices_normal_weekly.value_counts()\n",
    "#prices_normal_monthly.value_counts()\n",
    "#prices_cleanfee.value_counts()\n",
    "#prices_securitydeposit.value_counts()"
   ]
  },
  {
   "cell_type": "code",
   "execution_count": null,
   "id": "ad6cdc14",
   "metadata": {
    "scrolled": false
   },
   "outputs": [],
   "source": [
    "listings_df['extra_people'] = listings_df['extra_people'].fillna(listings_df['extra_people'].mean())"
   ]
  },
  {
   "cell_type": "code",
   "execution_count": null,
   "id": "69e16553",
   "metadata": {},
   "outputs": [],
   "source": [
    "listings_df['cleaning_fee'] = listings_df['cleaning_fee'].fillna(listings_df['price']*random.choice([1,2,3,4]))"
   ]
  },
  {
   "cell_type": "code",
   "execution_count": null,
   "id": "2f6e1ad3",
   "metadata": {},
   "outputs": [],
   "source": [
    "listings_df['security_deposit'] = listings_df['security_deposit'].fillna(listings_df['price']*random.choice([1,]))"
   ]
  },
  {
   "cell_type": "code",
   "execution_count": null,
   "id": "08d9e475",
   "metadata": {},
   "outputs": [],
   "source": [
    "listings_df['weekly_price'] = listings_df['weekly_price'].fillna(listings_df['price']*6.5)"
   ]
  },
  {
   "cell_type": "code",
   "execution_count": null,
   "id": "ed517d4e",
   "metadata": {},
   "outputs": [],
   "source": [
    "listings_df['monthly_price'] = listings_df['monthly_price'].fillna(listings_df['weekly_price']*3.5)"
   ]
  },
  {
   "cell_type": "code",
   "execution_count": null,
   "id": "1155106e",
   "metadata": {
    "scrolled": false
   },
   "outputs": [],
   "source": [
    "#Comparing again without nan values\n",
    "listings_df[['price', 'weekly_price', 'monthly_price', 'cleaning_fee', 'security_deposit', 'extra_people']]"
   ]
  },
  {
   "cell_type": "markdown",
   "id": "30d8f60a",
   "metadata": {},
   "source": [
    "Features that are objects, but should be int or float: 'host_response_rate', 'host_acceptance_rate', 'zipcode', 'price', 'security_deposit', 'cleaning_fee', 'extra_people', 'weekly_price', 'monthly_price'\n",
    "\n",
    "Luego buscare como rellenar los valores NaN de las variables que tienen valores NaN, ya sea usando las medias, o usando groupby, asi tambien usarlo para las columnas con valores binarios, hay varias, asi que debo sacar las columnas que tengan valores binarios.\n",
    "\n",
    "\n",
    "Centrate en buscar las features que necesitas para responder las preguntas y solo trabaja en ellas, no pierdas el tiempo en las demas.\n"
   ]
  },
  {
   "cell_type": "code",
   "execution_count": null,
   "id": "8e330a25",
   "metadata": {},
   "outputs": [],
   "source": []
  }
 ],
 "metadata": {
  "kernelspec": {
   "display_name": "Python 3 (ipykernel)",
   "language": "python",
   "name": "python3"
  },
  "language_info": {
   "codemirror_mode": {
    "name": "ipython",
    "version": 3
   },
   "file_extension": ".py",
   "mimetype": "text/x-python",
   "name": "python",
   "nbconvert_exporter": "python",
   "pygments_lexer": "ipython3",
   "version": "3.9.12"
  }
 },
 "nbformat": 4,
 "nbformat_minor": 5
}

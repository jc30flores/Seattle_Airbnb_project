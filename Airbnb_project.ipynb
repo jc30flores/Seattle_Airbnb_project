{
 "cells": [
  {
   "cell_type": "code",
   "execution_count": 1,
   "id": "f8de8489",
   "metadata": {},
   "outputs": [],
   "source": [
    "import numpy as np\n",
    "import pandas as pd\n",
    "import matplotlib.pyplot as plt\n",
    "import seaborn as sns\n",
    "from zipfile import ZipFile\n",
    "import os\n",
    "%matplotlib inline"
   ]
  },
  {
   "cell_type": "code",
   "execution_count": 2,
   "id": "5d0d520e",
   "metadata": {},
   "outputs": [],
   "source": [
    "#Extracting the archive.zip, this folder contain the 3 csv files.\n",
    "#with ZipFile('archive.zip', 'r') as zip:\n",
    "    #zip.extractall('datasets')"
   ]
  },
  {
   "cell_type": "code",
   "execution_count": 3,
   "id": "2fcb58e3",
   "metadata": {},
   "outputs": [],
   "source": [
    "#Saving the csv files into the data frames.\n",
    "review_df = pd.read_csv('datasets/reviews.csv')\n",
    "calendar_df = pd.read_csv('datasets/calendar.csv')\n",
    "listings_df = pd.read_csv('datasets/listings.csv')"
   ]
  },
  {
   "cell_type": "code",
   "execution_count": 4,
   "id": "6c9f3a4d",
   "metadata": {},
   "outputs": [],
   "source": [
    "#review_df.head()\n",
    "#review_df.info()\n",
    "#review_df.describe()"
   ]
  },
  {
   "cell_type": "code",
   "execution_count": 5,
   "id": "4cbc724a",
   "metadata": {},
   "outputs": [],
   "source": [
    "#calendar_df.head()\n",
    "#calendar_df.info()\n",
    "#calendar_df.describe()"
   ]
  },
  {
   "cell_type": "code",
   "execution_count": 6,
   "id": "a6462d1a",
   "metadata": {},
   "outputs": [],
   "source": [
    "#listings_df.head()\n",
    "#listings_df.info()\n",
    "#listings_df.describe()"
   ]
  },
  {
   "cell_type": "code",
   "execution_count": 23,
   "id": "5adc5897",
   "metadata": {},
   "outputs": [
    {
     "name": "stdout",
     "output_type": "stream",
     "text": [
      "['summary', 'space', 'neighborhood_overview', 'notes', 'transit', 'thumbnail_url', 'medium_url', 'xl_picture_url', 'host_name', 'host_since', 'host_location', 'host_about', 'host_response_time', 'host_response_rate', 'host_acceptance_rate', 'host_is_superhost', 'host_thumbnail_url', 'host_picture_url', 'host_neighbourhood', 'host_listings_count', 'host_total_listings_count', 'host_has_profile_pic', 'host_identity_verified', 'neighbourhood', 'zipcode', 'property_type', 'bathrooms', 'bedrooms', 'beds', 'weekly_price', 'monthly_price', 'security_deposit', 'cleaning_fee', 'first_review', 'last_review', 'review_scores_rating', 'review_scores_accuracy', 'review_scores_cleanliness', 'review_scores_checkin', 'review_scores_communication', 'review_scores_location', 'review_scores_value', 'reviews_per_month']\n"
     ]
    }
   ],
   "source": [
    "all_nulls_col = listings_nulls_col_25 = listings_df[listings_df.columns[listings_df.isnull().sum() > 0]]\n",
    "print(list(all_nulls_col))"
   ]
  },
  {
   "cell_type": "code",
   "execution_count": 7,
   "id": "f2ea8e17",
   "metadata": {},
   "outputs": [
    {
     "name": "stdout",
     "output_type": "stream",
     "text": [
      "<class 'pandas.core.frame.DataFrame'>\n",
      "RangeIndex: 3818 entries, 0 to 3817\n",
      "Data columns (total 8 columns):\n",
      " #   Column                 Non-Null Count  Dtype  \n",
      "---  ------                 --------------  -----  \n",
      " 0   neighborhood_overview  2786 non-null   object \n",
      " 1   notes                  2212 non-null   object \n",
      " 2   square_feet            97 non-null     float64\n",
      " 3   weekly_price           2009 non-null   object \n",
      " 4   monthly_price          1517 non-null   object \n",
      " 5   security_deposit       1866 non-null   object \n",
      " 6   cleaning_fee           2788 non-null   object \n",
      " 7   license                0 non-null      float64\n",
      "dtypes: float64(2), object(6)\n",
      "memory usage: 238.8+ KB\n"
     ]
    }
   ],
   "source": [
    "listings_nulls_col_25 = listings_df[listings_df.columns[listings_df.isnull().sum()/listings_df.shape[0] > 0.25]]\n",
    "\n",
    "listings_nulls_col_25.info()\n",
    "\n",
    "# More 75%: 'square_feet', 'license' \n",
    "# More 50%: 'monthly_price', 'security_deposit'\n",
    "# More 40%: 'weekly_price', 'notes'\n",
    "# More 25%: 'neighborhood_overview', 'cleaning_fee'"
   ]
  },
  {
   "cell_type": "code",
   "execution_count": 8,
   "id": "5993257f",
   "metadata": {},
   "outputs": [
    {
     "data": {
      "text/plain": [
       "90"
      ]
     },
     "execution_count": 8,
     "metadata": {},
     "output_type": "execute_result"
    }
   ],
   "source": [
    "listings_df = listings_df.drop(['square_feet', 'license'], axis=1)\n",
    "listings_df.shape[1]"
   ]
  },
  {
   "cell_type": "code",
   "execution_count": 9,
   "id": "538a3ea6",
   "metadata": {
    "scrolled": true
   },
   "outputs": [
    {
     "name": "stdout",
     "output_type": "stream",
     "text": [
      "<class 'pandas.core.frame.DataFrame'>\n",
      "RangeIndex: 3818 entries, 0 to 3817\n",
      "Data columns (total 90 columns):\n",
      " #   Column                            Non-Null Count  Dtype  \n",
      "---  ------                            --------------  -----  \n",
      " 0   id                                3818 non-null   int64  \n",
      " 1   listing_url                       3818 non-null   object \n",
      " 2   scrape_id                         3818 non-null   int64  \n",
      " 3   last_scraped                      3818 non-null   object \n",
      " 4   name                              3818 non-null   object \n",
      " 5   summary                           3641 non-null   object \n",
      " 6   space                             3249 non-null   object \n",
      " 7   description                       3818 non-null   object \n",
      " 8   experiences_offered               3818 non-null   object \n",
      " 9   neighborhood_overview             2786 non-null   object \n",
      " 10  notes                             2212 non-null   object \n",
      " 11  transit                           2884 non-null   object \n",
      " 12  thumbnail_url                     3498 non-null   object \n",
      " 13  medium_url                        3498 non-null   object \n",
      " 14  picture_url                       3818 non-null   object \n",
      " 15  xl_picture_url                    3498 non-null   object \n",
      " 16  host_id                           3818 non-null   int64  \n",
      " 17  host_url                          3818 non-null   object \n",
      " 18  host_name                         3816 non-null   object \n",
      " 19  host_since                        3816 non-null   object \n",
      " 20  host_location                     3810 non-null   object \n",
      " 21  host_about                        2959 non-null   object \n",
      " 22  host_response_time                3295 non-null   object \n",
      " 23  host_response_rate                3295 non-null   object \n",
      " 24  host_acceptance_rate              3045 non-null   object \n",
      " 25  host_is_superhost                 3816 non-null   object \n",
      " 26  host_thumbnail_url                3816 non-null   object \n",
      " 27  host_picture_url                  3816 non-null   object \n",
      " 28  host_neighbourhood                3518 non-null   object \n",
      " 29  host_listings_count               3816 non-null   float64\n",
      " 30  host_total_listings_count         3816 non-null   float64\n",
      " 31  host_verifications                3818 non-null   object \n",
      " 32  host_has_profile_pic              3816 non-null   object \n",
      " 33  host_identity_verified            3816 non-null   object \n",
      " 34  street                            3818 non-null   object \n",
      " 35  neighbourhood                     3402 non-null   object \n",
      " 36  neighbourhood_cleansed            3818 non-null   object \n",
      " 37  neighbourhood_group_cleansed      3818 non-null   object \n",
      " 38  city                              3818 non-null   object \n",
      " 39  state                             3818 non-null   object \n",
      " 40  zipcode                           3811 non-null   object \n",
      " 41  market                            3818 non-null   object \n",
      " 42  smart_location                    3818 non-null   object \n",
      " 43  country_code                      3818 non-null   object \n",
      " 44  country                           3818 non-null   object \n",
      " 45  latitude                          3818 non-null   float64\n",
      " 46  longitude                         3818 non-null   float64\n",
      " 47  is_location_exact                 3818 non-null   object \n",
      " 48  property_type                     3817 non-null   object \n",
      " 49  room_type                         3818 non-null   object \n",
      " 50  accommodates                      3818 non-null   int64  \n",
      " 51  bathrooms                         3802 non-null   float64\n",
      " 52  bedrooms                          3812 non-null   float64\n",
      " 53  beds                              3817 non-null   float64\n",
      " 54  bed_type                          3818 non-null   object \n",
      " 55  amenities                         3818 non-null   object \n",
      " 56  price                             3818 non-null   object \n",
      " 57  weekly_price                      2009 non-null   object \n",
      " 58  monthly_price                     1517 non-null   object \n",
      " 59  security_deposit                  1866 non-null   object \n",
      " 60  cleaning_fee                      2788 non-null   object \n",
      " 61  guests_included                   3818 non-null   int64  \n",
      " 62  extra_people                      3818 non-null   object \n",
      " 63  minimum_nights                    3818 non-null   int64  \n",
      " 64  maximum_nights                    3818 non-null   int64  \n",
      " 65  calendar_updated                  3818 non-null   object \n",
      " 66  has_availability                  3818 non-null   object \n",
      " 67  availability_30                   3818 non-null   int64  \n",
      " 68  availability_60                   3818 non-null   int64  \n",
      " 69  availability_90                   3818 non-null   int64  \n",
      " 70  availability_365                  3818 non-null   int64  \n",
      " 71  calendar_last_scraped             3818 non-null   object \n",
      " 72  number_of_reviews                 3818 non-null   int64  \n",
      " 73  first_review                      3191 non-null   object \n",
      " 74  last_review                       3191 non-null   object \n",
      " 75  review_scores_rating              3171 non-null   float64\n",
      " 76  review_scores_accuracy            3160 non-null   float64\n",
      " 77  review_scores_cleanliness         3165 non-null   float64\n",
      " 78  review_scores_checkin             3160 non-null   float64\n",
      " 79  review_scores_communication       3167 non-null   float64\n",
      " 80  review_scores_location            3163 non-null   float64\n",
      " 81  review_scores_value               3162 non-null   float64\n",
      " 82  requires_license                  3818 non-null   object \n",
      " 83  jurisdiction_names                3818 non-null   object \n",
      " 84  instant_bookable                  3818 non-null   object \n",
      " 85  cancellation_policy               3818 non-null   object \n",
      " 86  require_guest_profile_picture     3818 non-null   object \n",
      " 87  require_guest_phone_verification  3818 non-null   object \n",
      " 88  calculated_host_listings_count    3818 non-null   int64  \n",
      " 89  reviews_per_month                 3191 non-null   float64\n",
      "dtypes: float64(15), int64(13), object(62)\n",
      "memory usage: 2.6+ MB\n"
     ]
    }
   ],
   "source": [
    "listings_df.info()"
   ]
  },
  {
   "cell_type": "code",
   "execution_count": 10,
   "id": "6b500cfd",
   "metadata": {},
   "outputs": [],
   "source": [
    "list_df = listings_df"
   ]
  },
  {
   "cell_type": "code",
   "execution_count": 11,
   "id": "d92791b8",
   "metadata": {},
   "outputs": [
    {
     "name": "stdout",
     "output_type": "stream",
     "text": [
      "False\n"
     ]
    }
   ],
   "source": [
    "print(type(list_df['price'][0]) == float)"
   ]
  },
  {
   "cell_type": "code",
   "execution_count": 12,
   "id": "f4c75529",
   "metadata": {},
   "outputs": [],
   "source": [
    "def price_str_float(*columns):\n",
    "    for col in columns:\n",
    "        for n in list_df[col]:\n",
    "            if type(n) != float:\n",
    "                list_df[col] = list_df[col].replace(n, float(n[1:].replace(',','')))\n",
    "price_str_float('price', 'monthly_price', 'weekly_price', 'cleaning_fee', 'security_deposit', 'extra_people')"
   ]
  },
  {
   "cell_type": "code",
   "execution_count": 13,
   "id": "6370df60",
   "metadata": {},
   "outputs": [],
   "source": [
    "def porcentage_str_int(*columns):\n",
    "    for col in columns:\n",
    "        for n in list_df[col]:\n",
    "            if type(n) != int and type(n) != float:\n",
    "                list_df[col] = list_df[col].replace(n, int(n[:-1]))\n",
    "porcentage_str_int('host_response_rate', 'host_acceptance_rate')"
   ]
  },
  {
   "cell_type": "code",
   "execution_count": 14,
   "id": "a493e952",
   "metadata": {},
   "outputs": [
    {
     "data": {
      "text/plain": [
       "0       moderate\n",
       "1         strict\n",
       "2         strict\n",
       "3       flexible\n",
       "4         strict\n",
       "          ...   \n",
       "3813      strict\n",
       "3814    moderate\n",
       "3815    moderate\n",
       "3816    moderate\n",
       "3817    flexible\n",
       "Name: cancellation_policy, Length: 3818, dtype: object"
      ]
     },
     "execution_count": 14,
     "metadata": {},
     "output_type": "execute_result"
    }
   ],
   "source": [
    "list_df['cancellation_policy']"
   ]
  },
  {
   "cell_type": "code",
   "execution_count": 27,
   "id": "04ddb73f",
   "metadata": {},
   "outputs": [
    {
     "data": {
      "text/plain": [
       "43"
      ]
     },
     "execution_count": 27,
     "metadata": {},
     "output_type": "execute_result"
    }
   ],
   "source": [
    "list_df[['summary', 'space', 'neighborhood_overview', 'notes', 'transit', 'thumbnail_url', 'medium_url', 'xl_picture_url', 'host_name', 'host_since', 'host_location', 'host_about', 'host_response_time', 'host_response_rate', 'host_acceptance_rate', 'host_is_superhost', 'host_thumbnail_url', 'host_picture_url', 'host_neighbourhood', 'host_listings_count', 'host_total_listings_count', 'host_has_profile_pic', 'host_identity_verified', 'neighbourhood', 'zipcode', 'property_type', 'bathrooms', 'bedrooms', 'beds', 'weekly_price', 'monthly_price', 'security_deposit', 'cleaning_fee', 'first_review', 'last_review', 'review_scores_rating', 'review_scores_accuracy', 'review_scores_cleanliness', 'review_scores_checkin', 'review_scores_communication', 'review_scores_location', 'review_scores_value', 'reviews_per_month']].shape[1]"
   ]
  },
  {
   "cell_type": "markdown",
   "id": "30d8f60a",
   "metadata": {},
   "source": [
    "Features that are objects, but should be int or float: 'host_response_rate', 'host_acceptance_rate', 'zipcode', 'price', 'security_deposit', 'cleaning_fee', 'extra_people', 'weekly_price', 'monthly_price'\n",
    "\n",
    "\n",
    "Debo buscar como quitarle el signo $ o % a los valores de las columnas que lo tienen, y volver todas las columnas a type int or float.\n",
    "\n",
    "Luego buscare como rellenar los valores NaN de las variables que tienen valores NaN, ya sea usando las medias, o usando groupby, asi tambien usarlo para las columnas con valores binarios, hay varias, asi que debo sacar las columnas que tengan valores binarios."
   ]
  },
  {
   "cell_type": "code",
   "execution_count": null,
   "id": "3cccb54d",
   "metadata": {},
   "outputs": [],
   "source": []
  }
 ],
 "metadata": {
  "kernelspec": {
   "display_name": "Python 3 (ipykernel)",
   "language": "python",
   "name": "python3"
  },
  "language_info": {
   "codemirror_mode": {
    "name": "ipython",
    "version": 3
   },
   "file_extension": ".py",
   "mimetype": "text/x-python",
   "name": "python",
   "nbconvert_exporter": "python",
   "pygments_lexer": "ipython3",
   "version": "3.9.12"
  }
 },
 "nbformat": 4,
 "nbformat_minor": 5
}

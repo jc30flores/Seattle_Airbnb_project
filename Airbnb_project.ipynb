{
 "cells": [
  {
   "cell_type": "markdown",
   "id": "82c2a4de",
   "metadata": {},
   "source": [
    "# Collection of information about Dataset AirBnB Seattle.\n",
    "\n",
    "### Question of interest:\n",
    "- Can you describe the vibe of each Seattle neighborhood using listing descriptions?\n",
    "- Which neighborhood is the most expensive?\n",
    "- What are the busiest times of the year to visit Seattle? By how much do prices spike?\n",
    "\n",
    "### In the same order I'll investigating the before questions, and doing plots if is necessary."
   ]
  },
  {
   "cell_type": "code",
   "execution_count": 1,
   "id": "f8de8489",
   "metadata": {},
   "outputs": [],
   "source": [
    "import numpy as np\n",
    "import pandas as pd\n",
    "import matplotlib.pyplot as plt\n",
    "import seaborn as sns\n",
    "from zipfile import ZipFile\n",
    "import random\n",
    "%matplotlib inline"
   ]
  },
  {
   "cell_type": "markdown",
   "id": "a867bf92",
   "metadata": {},
   "source": [
    "### I'll start with creating the 3 data frames, extracting the zip files, viewing the data sets and understanding the features and all the information the files have."
   ]
  },
  {
   "cell_type": "code",
   "execution_count": 2,
   "id": "5d0d520e",
   "metadata": {},
   "outputs": [],
   "source": [
    "#Extracting the archive.zip, this folder contain the 3 csv files.\n",
    "#with ZipFile('archive.zip', 'r') as zip:\n",
    "    #zip.extractall('datasets')"
   ]
  },
  {
   "cell_type": "code",
   "execution_count": 3,
   "id": "2fcb58e3",
   "metadata": {},
   "outputs": [],
   "source": [
    "#Saving the csv files into the data frames.\n",
    "review_df = pd.read_csv('datasets/reviews.csv')\n",
    "calendar_df = pd.read_csv('datasets/calendar.csv')\n",
    "listings_df = pd.read_csv('datasets/listings.csv')"
   ]
  },
  {
   "cell_type": "code",
   "execution_count": 4,
   "id": "6c9f3a4d",
   "metadata": {},
   "outputs": [
    {
     "data": {
      "text/html": [
       "<div>\n",
       "<style scoped>\n",
       "    .dataframe tbody tr th:only-of-type {\n",
       "        vertical-align: middle;\n",
       "    }\n",
       "\n",
       "    .dataframe tbody tr th {\n",
       "        vertical-align: top;\n",
       "    }\n",
       "\n",
       "    .dataframe thead th {\n",
       "        text-align: right;\n",
       "    }\n",
       "</style>\n",
       "<table border=\"1\" class=\"dataframe\">\n",
       "  <thead>\n",
       "    <tr style=\"text-align: right;\">\n",
       "      <th></th>\n",
       "      <th>listing_id</th>\n",
       "      <th>id</th>\n",
       "      <th>date</th>\n",
       "      <th>reviewer_id</th>\n",
       "      <th>reviewer_name</th>\n",
       "      <th>comments</th>\n",
       "    </tr>\n",
       "  </thead>\n",
       "  <tbody>\n",
       "    <tr>\n",
       "      <th>0</th>\n",
       "      <td>7202016</td>\n",
       "      <td>38917982</td>\n",
       "      <td>2015-07-19</td>\n",
       "      <td>28943674</td>\n",
       "      <td>Bianca</td>\n",
       "      <td>Cute and cozy place. Perfect location to every...</td>\n",
       "    </tr>\n",
       "    <tr>\n",
       "      <th>1</th>\n",
       "      <td>7202016</td>\n",
       "      <td>39087409</td>\n",
       "      <td>2015-07-20</td>\n",
       "      <td>32440555</td>\n",
       "      <td>Frank</td>\n",
       "      <td>Kelly has a great room in a very central locat...</td>\n",
       "    </tr>\n",
       "    <tr>\n",
       "      <th>2</th>\n",
       "      <td>7202016</td>\n",
       "      <td>39820030</td>\n",
       "      <td>2015-07-26</td>\n",
       "      <td>37722850</td>\n",
       "      <td>Ian</td>\n",
       "      <td>Very spacious apartment, and in a great neighb...</td>\n",
       "    </tr>\n",
       "    <tr>\n",
       "      <th>3</th>\n",
       "      <td>7202016</td>\n",
       "      <td>40813543</td>\n",
       "      <td>2015-08-02</td>\n",
       "      <td>33671805</td>\n",
       "      <td>George</td>\n",
       "      <td>Close to Seattle Center and all it has to offe...</td>\n",
       "    </tr>\n",
       "    <tr>\n",
       "      <th>4</th>\n",
       "      <td>7202016</td>\n",
       "      <td>41986501</td>\n",
       "      <td>2015-08-10</td>\n",
       "      <td>34959538</td>\n",
       "      <td>Ming</td>\n",
       "      <td>Kelly was a great host and very accommodating ...</td>\n",
       "    </tr>\n",
       "  </tbody>\n",
       "</table>\n",
       "</div>"
      ],
      "text/plain": [
       "   listing_id        id        date  reviewer_id reviewer_name  \\\n",
       "0     7202016  38917982  2015-07-19     28943674        Bianca   \n",
       "1     7202016  39087409  2015-07-20     32440555         Frank   \n",
       "2     7202016  39820030  2015-07-26     37722850           Ian   \n",
       "3     7202016  40813543  2015-08-02     33671805        George   \n",
       "4     7202016  41986501  2015-08-10     34959538          Ming   \n",
       "\n",
       "                                            comments  \n",
       "0  Cute and cozy place. Perfect location to every...  \n",
       "1  Kelly has a great room in a very central locat...  \n",
       "2  Very spacious apartment, and in a great neighb...  \n",
       "3  Close to Seattle Center and all it has to offe...  \n",
       "4  Kelly was a great host and very accommodating ...  "
      ]
     },
     "execution_count": 4,
     "metadata": {},
     "output_type": "execute_result"
    }
   ],
   "source": [
    "review_df.head()\n",
    "#review_df.info()\n",
    "#review_df.describe()"
   ]
  },
  {
   "cell_type": "code",
   "execution_count": 5,
   "id": "4cbc724a",
   "metadata": {},
   "outputs": [
    {
     "data": {
      "text/html": [
       "<div>\n",
       "<style scoped>\n",
       "    .dataframe tbody tr th:only-of-type {\n",
       "        vertical-align: middle;\n",
       "    }\n",
       "\n",
       "    .dataframe tbody tr th {\n",
       "        vertical-align: top;\n",
       "    }\n",
       "\n",
       "    .dataframe thead th {\n",
       "        text-align: right;\n",
       "    }\n",
       "</style>\n",
       "<table border=\"1\" class=\"dataframe\">\n",
       "  <thead>\n",
       "    <tr style=\"text-align: right;\">\n",
       "      <th></th>\n",
       "      <th>listing_id</th>\n",
       "      <th>date</th>\n",
       "      <th>available</th>\n",
       "      <th>price</th>\n",
       "    </tr>\n",
       "  </thead>\n",
       "  <tbody>\n",
       "    <tr>\n",
       "      <th>0</th>\n",
       "      <td>241032</td>\n",
       "      <td>2016-01-04</td>\n",
       "      <td>t</td>\n",
       "      <td>$85.00</td>\n",
       "    </tr>\n",
       "    <tr>\n",
       "      <th>1</th>\n",
       "      <td>241032</td>\n",
       "      <td>2016-01-05</td>\n",
       "      <td>t</td>\n",
       "      <td>$85.00</td>\n",
       "    </tr>\n",
       "    <tr>\n",
       "      <th>2</th>\n",
       "      <td>241032</td>\n",
       "      <td>2016-01-06</td>\n",
       "      <td>f</td>\n",
       "      <td>NaN</td>\n",
       "    </tr>\n",
       "    <tr>\n",
       "      <th>3</th>\n",
       "      <td>241032</td>\n",
       "      <td>2016-01-07</td>\n",
       "      <td>f</td>\n",
       "      <td>NaN</td>\n",
       "    </tr>\n",
       "    <tr>\n",
       "      <th>4</th>\n",
       "      <td>241032</td>\n",
       "      <td>2016-01-08</td>\n",
       "      <td>f</td>\n",
       "      <td>NaN</td>\n",
       "    </tr>\n",
       "  </tbody>\n",
       "</table>\n",
       "</div>"
      ],
      "text/plain": [
       "   listing_id        date available   price\n",
       "0      241032  2016-01-04         t  $85.00\n",
       "1      241032  2016-01-05         t  $85.00\n",
       "2      241032  2016-01-06         f     NaN\n",
       "3      241032  2016-01-07         f     NaN\n",
       "4      241032  2016-01-08         f     NaN"
      ]
     },
     "execution_count": 5,
     "metadata": {},
     "output_type": "execute_result"
    }
   ],
   "source": [
    "calendar_df.head()\n",
    "#calendar_df.info()\n",
    "#calendar_df.describe()"
   ]
  },
  {
   "cell_type": "code",
   "execution_count": 6,
   "id": "a6462d1a",
   "metadata": {
    "scrolled": true
   },
   "outputs": [
    {
     "data": {
      "text/html": [
       "<div>\n",
       "<style scoped>\n",
       "    .dataframe tbody tr th:only-of-type {\n",
       "        vertical-align: middle;\n",
       "    }\n",
       "\n",
       "    .dataframe tbody tr th {\n",
       "        vertical-align: top;\n",
       "    }\n",
       "\n",
       "    .dataframe thead th {\n",
       "        text-align: right;\n",
       "    }\n",
       "</style>\n",
       "<table border=\"1\" class=\"dataframe\">\n",
       "  <thead>\n",
       "    <tr style=\"text-align: right;\">\n",
       "      <th></th>\n",
       "      <th>id</th>\n",
       "      <th>listing_url</th>\n",
       "      <th>scrape_id</th>\n",
       "      <th>last_scraped</th>\n",
       "      <th>name</th>\n",
       "      <th>summary</th>\n",
       "      <th>space</th>\n",
       "      <th>description</th>\n",
       "      <th>experiences_offered</th>\n",
       "      <th>neighborhood_overview</th>\n",
       "      <th>...</th>\n",
       "      <th>review_scores_value</th>\n",
       "      <th>requires_license</th>\n",
       "      <th>license</th>\n",
       "      <th>jurisdiction_names</th>\n",
       "      <th>instant_bookable</th>\n",
       "      <th>cancellation_policy</th>\n",
       "      <th>require_guest_profile_picture</th>\n",
       "      <th>require_guest_phone_verification</th>\n",
       "      <th>calculated_host_listings_count</th>\n",
       "      <th>reviews_per_month</th>\n",
       "    </tr>\n",
       "  </thead>\n",
       "  <tbody>\n",
       "    <tr>\n",
       "      <th>0</th>\n",
       "      <td>241032</td>\n",
       "      <td>https://www.airbnb.com/rooms/241032</td>\n",
       "      <td>20160104002432</td>\n",
       "      <td>2016-01-04</td>\n",
       "      <td>Stylish Queen Anne Apartment</td>\n",
       "      <td>NaN</td>\n",
       "      <td>Make your self at home in this charming one-be...</td>\n",
       "      <td>Make your self at home in this charming one-be...</td>\n",
       "      <td>none</td>\n",
       "      <td>NaN</td>\n",
       "      <td>...</td>\n",
       "      <td>10.0</td>\n",
       "      <td>f</td>\n",
       "      <td>NaN</td>\n",
       "      <td>WASHINGTON</td>\n",
       "      <td>f</td>\n",
       "      <td>moderate</td>\n",
       "      <td>f</td>\n",
       "      <td>f</td>\n",
       "      <td>2</td>\n",
       "      <td>4.07</td>\n",
       "    </tr>\n",
       "    <tr>\n",
       "      <th>1</th>\n",
       "      <td>953595</td>\n",
       "      <td>https://www.airbnb.com/rooms/953595</td>\n",
       "      <td>20160104002432</td>\n",
       "      <td>2016-01-04</td>\n",
       "      <td>Bright &amp; Airy Queen Anne Apartment</td>\n",
       "      <td>Chemically sensitive? We've removed the irrita...</td>\n",
       "      <td>Beautiful, hypoallergenic apartment in an extr...</td>\n",
       "      <td>Chemically sensitive? We've removed the irrita...</td>\n",
       "      <td>none</td>\n",
       "      <td>Queen Anne is a wonderful, truly functional vi...</td>\n",
       "      <td>...</td>\n",
       "      <td>10.0</td>\n",
       "      <td>f</td>\n",
       "      <td>NaN</td>\n",
       "      <td>WASHINGTON</td>\n",
       "      <td>f</td>\n",
       "      <td>strict</td>\n",
       "      <td>t</td>\n",
       "      <td>t</td>\n",
       "      <td>6</td>\n",
       "      <td>1.48</td>\n",
       "    </tr>\n",
       "    <tr>\n",
       "      <th>2</th>\n",
       "      <td>3308979</td>\n",
       "      <td>https://www.airbnb.com/rooms/3308979</td>\n",
       "      <td>20160104002432</td>\n",
       "      <td>2016-01-04</td>\n",
       "      <td>New Modern House-Amazing water view</td>\n",
       "      <td>New modern house built in 2013.  Spectacular s...</td>\n",
       "      <td>Our house is modern, light and fresh with a wa...</td>\n",
       "      <td>New modern house built in 2013.  Spectacular s...</td>\n",
       "      <td>none</td>\n",
       "      <td>Upper Queen Anne is a charming neighborhood fu...</td>\n",
       "      <td>...</td>\n",
       "      <td>10.0</td>\n",
       "      <td>f</td>\n",
       "      <td>NaN</td>\n",
       "      <td>WASHINGTON</td>\n",
       "      <td>f</td>\n",
       "      <td>strict</td>\n",
       "      <td>f</td>\n",
       "      <td>f</td>\n",
       "      <td>2</td>\n",
       "      <td>1.15</td>\n",
       "    </tr>\n",
       "    <tr>\n",
       "      <th>3</th>\n",
       "      <td>7421966</td>\n",
       "      <td>https://www.airbnb.com/rooms/7421966</td>\n",
       "      <td>20160104002432</td>\n",
       "      <td>2016-01-04</td>\n",
       "      <td>Queen Anne Chateau</td>\n",
       "      <td>A charming apartment that sits atop Queen Anne...</td>\n",
       "      <td>NaN</td>\n",
       "      <td>A charming apartment that sits atop Queen Anne...</td>\n",
       "      <td>none</td>\n",
       "      <td>NaN</td>\n",
       "      <td>...</td>\n",
       "      <td>NaN</td>\n",
       "      <td>f</td>\n",
       "      <td>NaN</td>\n",
       "      <td>WASHINGTON</td>\n",
       "      <td>f</td>\n",
       "      <td>flexible</td>\n",
       "      <td>f</td>\n",
       "      <td>f</td>\n",
       "      <td>1</td>\n",
       "      <td>NaN</td>\n",
       "    </tr>\n",
       "    <tr>\n",
       "      <th>4</th>\n",
       "      <td>278830</td>\n",
       "      <td>https://www.airbnb.com/rooms/278830</td>\n",
       "      <td>20160104002432</td>\n",
       "      <td>2016-01-04</td>\n",
       "      <td>Charming craftsman 3 bdm house</td>\n",
       "      <td>Cozy family craftman house in beautiful neighb...</td>\n",
       "      <td>Cozy family craftman house in beautiful neighb...</td>\n",
       "      <td>Cozy family craftman house in beautiful neighb...</td>\n",
       "      <td>none</td>\n",
       "      <td>We are in the beautiful neighborhood of Queen ...</td>\n",
       "      <td>...</td>\n",
       "      <td>9.0</td>\n",
       "      <td>f</td>\n",
       "      <td>NaN</td>\n",
       "      <td>WASHINGTON</td>\n",
       "      <td>f</td>\n",
       "      <td>strict</td>\n",
       "      <td>f</td>\n",
       "      <td>f</td>\n",
       "      <td>1</td>\n",
       "      <td>0.89</td>\n",
       "    </tr>\n",
       "  </tbody>\n",
       "</table>\n",
       "<p>5 rows × 92 columns</p>\n",
       "</div>"
      ],
      "text/plain": [
       "        id                           listing_url       scrape_id last_scraped  \\\n",
       "0   241032   https://www.airbnb.com/rooms/241032  20160104002432   2016-01-04   \n",
       "1   953595   https://www.airbnb.com/rooms/953595  20160104002432   2016-01-04   \n",
       "2  3308979  https://www.airbnb.com/rooms/3308979  20160104002432   2016-01-04   \n",
       "3  7421966  https://www.airbnb.com/rooms/7421966  20160104002432   2016-01-04   \n",
       "4   278830   https://www.airbnb.com/rooms/278830  20160104002432   2016-01-04   \n",
       "\n",
       "                                  name  \\\n",
       "0         Stylish Queen Anne Apartment   \n",
       "1   Bright & Airy Queen Anne Apartment   \n",
       "2  New Modern House-Amazing water view   \n",
       "3                   Queen Anne Chateau   \n",
       "4       Charming craftsman 3 bdm house   \n",
       "\n",
       "                                             summary  \\\n",
       "0                                                NaN   \n",
       "1  Chemically sensitive? We've removed the irrita...   \n",
       "2  New modern house built in 2013.  Spectacular s...   \n",
       "3  A charming apartment that sits atop Queen Anne...   \n",
       "4  Cozy family craftman house in beautiful neighb...   \n",
       "\n",
       "                                               space  \\\n",
       "0  Make your self at home in this charming one-be...   \n",
       "1  Beautiful, hypoallergenic apartment in an extr...   \n",
       "2  Our house is modern, light and fresh with a wa...   \n",
       "3                                                NaN   \n",
       "4  Cozy family craftman house in beautiful neighb...   \n",
       "\n",
       "                                         description experiences_offered  \\\n",
       "0  Make your self at home in this charming one-be...                none   \n",
       "1  Chemically sensitive? We've removed the irrita...                none   \n",
       "2  New modern house built in 2013.  Spectacular s...                none   \n",
       "3  A charming apartment that sits atop Queen Anne...                none   \n",
       "4  Cozy family craftman house in beautiful neighb...                none   \n",
       "\n",
       "                               neighborhood_overview  ... review_scores_value  \\\n",
       "0                                                NaN  ...                10.0   \n",
       "1  Queen Anne is a wonderful, truly functional vi...  ...                10.0   \n",
       "2  Upper Queen Anne is a charming neighborhood fu...  ...                10.0   \n",
       "3                                                NaN  ...                 NaN   \n",
       "4  We are in the beautiful neighborhood of Queen ...  ...                 9.0   \n",
       "\n",
       "  requires_license license jurisdiction_names instant_bookable  \\\n",
       "0                f     NaN         WASHINGTON                f   \n",
       "1                f     NaN         WASHINGTON                f   \n",
       "2                f     NaN         WASHINGTON                f   \n",
       "3                f     NaN         WASHINGTON                f   \n",
       "4                f     NaN         WASHINGTON                f   \n",
       "\n",
       "  cancellation_policy  require_guest_profile_picture  \\\n",
       "0            moderate                              f   \n",
       "1              strict                              t   \n",
       "2              strict                              f   \n",
       "3            flexible                              f   \n",
       "4              strict                              f   \n",
       "\n",
       "  require_guest_phone_verification calculated_host_listings_count  \\\n",
       "0                                f                              2   \n",
       "1                                t                              6   \n",
       "2                                f                              2   \n",
       "3                                f                              1   \n",
       "4                                f                              1   \n",
       "\n",
       "  reviews_per_month  \n",
       "0              4.07  \n",
       "1              1.48  \n",
       "2              1.15  \n",
       "3               NaN  \n",
       "4              0.89  \n",
       "\n",
       "[5 rows x 92 columns]"
      ]
     },
     "execution_count": 6,
     "metadata": {},
     "output_type": "execute_result"
    }
   ],
   "source": [
    "listings_df.head()\n",
    "#listings_df.info()\n",
    "#listings_df.describe()"
   ]
  },
  {
   "cell_type": "markdown",
   "id": "1628dba5",
   "metadata": {},
   "source": [
    "# Investigating NaN values. \n",
    "\n",
    "I'll create a variable that contains the columns that have NaN values, to use this when I need to investigate a specific column, I will also create another variable that contains the columns that exceed 25% of NaN values and I will eliminate the columns that contain more than 75% of NaN values.\n",
    "\n",
    "I'll only clean and process the columns that I will need in the project to solve the questions, so I will not waste time cleaning columns that are not important to answer my questions."
   ]
  },
  {
   "cell_type": "code",
   "execution_count": 7,
   "id": "6daff51a",
   "metadata": {},
   "outputs": [],
   "source": [
    "all_nulls_col = listings_df[listings_df.columns[listings_df.isnull().sum() > 0]]\n",
    "#all_nulls_col.info()"
   ]
  },
  {
   "cell_type": "code",
   "execution_count": 8,
   "id": "f2ea8e17",
   "metadata": {},
   "outputs": [],
   "source": [
    "listings_nulls_col_25 = listings_df[listings_df.columns[listings_df.isnull().sum()/listings_df.shape[0] > 0.25]]\n",
    "\n",
    "#listings_nulls_col_25.info()\n",
    "\n",
    "# More 75%: 'square_feet', 'license' \n",
    "# More 50%: 'monthly_price', 'security_deposit'\n",
    "# More 40%: 'weekly_price', 'notes'\n",
    "# More 25%: 'neighborhood_overview', 'cleaning_fee'"
   ]
  },
  {
   "cell_type": "code",
   "execution_count": 9,
   "id": "5993257f",
   "metadata": {},
   "outputs": [],
   "source": [
    "#Dropping this columns because have more than 75% of NaN values.\n",
    "listings_df = listings_df.drop(['square_feet', 'license'], axis=1)"
   ]
  },
  {
   "cell_type": "markdown",
   "id": "4931743e",
   "metadata": {},
   "source": [
    "# Question 1:\n",
    "\n",
    "### Can you describe the vibe of each Seattle neighborhood using listing descriptions?\n",
    "\n",
    "To solve this question I will use listings_df, the 'review_scores_location' column that contains the scores of all the reviews that have been given to the different neighborhoods in Seattle, the 'neighbourhood_group_cleansed' column to see the different neighborhoods that exist and know the mean scores the each one of them. "
   ]
  },
  {
   "cell_type": "code",
   "execution_count": 10,
   "id": "bba175f0",
   "metadata": {},
   "outputs": [],
   "source": [
    "#Filling the NaN values in the 'review_scores_location' with the mean().\n",
    "listings_df['review_scores_location'] = listings_df['review_scores_location'].fillna(listings_df['review_scores_location'].mean())\n",
    "\n",
    "#And changing the values to int, using df[column].astype(type).\n",
    "listings_df['review_scores_location'] = listings_df['review_scores_location'].astype(int)"
   ]
  },
  {
   "cell_type": "code",
   "execution_count": 11,
   "id": "41ca5798",
   "metadata": {},
   "outputs": [
    {
     "data": {
      "image/png": "[encoded data removed]",
      "text/plain": [
       "<Figure size 432x288 with 1 Axes>"
      ]
     },
     "metadata": {
      "needs_background": "light"
     },
     "output_type": "display_data"
    }
   ],
   "source": [
    "#Viewing the cantity of each value.\n",
    "(listings_df['review_scores_location'].value_counts()).plot(kind='bar');\n",
    "plt.title('Score of Location Reviews (\"Neighbourhood\")');"
   ]
  },
  {
   "cell_type": "code",
   "execution_count": 12,
   "id": "0d9493be",
   "metadata": {
    "scrolled": false
   },
   "outputs": [
    {
     "data": {
      "text/plain": [
       "10    2122\n",
       "9     1539\n",
       "8      129\n",
       "7       19\n",
       "6        8\n",
       "4        1\n",
       "Name: review_scores_location, dtype: int64"
      ]
     },
     "execution_count": 12,
     "metadata": {},
     "output_type": "execute_result"
    }
   ],
   "source": [
    "listings_df['review_scores_location'].value_counts()"
   ]
  },
  {
   "cell_type": "markdown",
   "id": "3d0abfb4",
   "metadata": {},
   "source": [
    "### If we see the scores that have been awarded, we only have one bad review, which was given a score of 4, and 8 reviews that were given a score of 6, although I will have to see one by one if this score is bad or good."
   ]
  },
  {
   "cell_type": "code",
   "execution_count": 13,
   "id": "9a695e5e",
   "metadata": {},
   "outputs": [],
   "source": [
    "#Looking the mean scores for each neighborhood\n",
    "mean_score_neighborhood = listings_df.groupby('neighbourhood_group_cleansed').mean()['review_scores_location'].sort_values().astype(int)"
   ]
  },
  {
   "cell_type": "code",
   "execution_count": 14,
   "id": "e323f209",
   "metadata": {
    "scrolled": true
   },
   "outputs": [
    {
     "data": {
      "text/plain": [
       "neighbourhood_group_cleansed\n",
       "Rainier Valley         9\n",
       "Beacon Hill            9\n",
       "Interbay               9\n",
       "Delridge               9\n",
       "University District    9\n",
       "Lake City              9\n",
       "Seward Park            9\n",
       "Northgate              9\n",
       "Cascade                9\n",
       "Central Area           9\n",
       "Magnolia               9\n",
       "Other neighborhoods    9\n",
       "West Seattle           9\n",
       "Queen Anne             9\n",
       "Ballard                9\n",
       "Downtown               9\n",
       "Capitol Hill           9\n",
       "Name: review_scores_location, dtype: int64"
      ]
     },
     "execution_count": 14,
     "metadata": {},
     "output_type": "execute_result"
    }
   ],
   "source": [
    "#The firt 40 neighbourhoods, with their mean score review.\n",
    "mean_score_neighborhood"
   ]
  },
  {
   "cell_type": "code",
   "execution_count": 15,
   "id": "fd49d215",
   "metadata": {},
   "outputs": [
    {
     "data": {
      "text/plain": [
       "[\"It is located in the bustling and vibrant University district. A rare 100 walk score. It is within five minutes' walking distance to the University of Washington. You will have access to a diverse array of restaurants, shops and activities.\"]"
      ]
     },
     "execution_count": 15,
     "metadata": {},
     "output_type": "execute_result"
    }
   ],
   "source": [
    "#The review with the value 4 as score.\n",
    "list(listings_df['neighborhood_overview'][listings_df['review_scores_location'] == 4])"
   ]
  },
  {
   "cell_type": "markdown",
   "id": "f3bb6baa",
   "metadata": {},
   "source": [
    "### Investigating the bad review:\n",
    "\n",
    "The review is not totally good, but despite the fact that it is the only review with a score of 4, it is right with its review, it is talking about the University District, and investigating the other comments about this district, they speak more or less of the same with the only difference is that this user is bothered by what others are not, living near the University is an advantage for others, but for this user it is the opposite, the District is not bad, it has a mean score of 9, and most of reviews speak highly of this neighborhood.\n",
    "\n",
    "The user had to choose a place according to their tastes and needs to stay."
   ]
  },
  {
   "cell_type": "markdown",
   "id": "25b12aba",
   "metadata": {},
   "source": [
    "### Answer\n",
    "\n",
    "As we can see, all the neighborhoods in Seattle have good scores, and on average they do not go below 9.\n",
    "\n",
    "In total there are 8 ratings out of 6, and when I read them I realized that they spoke well of the neighborhood, and there is 1 rating out of 4, which has already been investigated and explained.\n",
    "\n",
    "The other reviews are good, which indicates that the vibe in the neighborhoods of Seattle is good, and that you should choose well where to stay, according to your tolerance and comfort."
   ]
  },
  {
   "cell_type": "markdown",
   "id": "38fa5cc6",
   "metadata": {},
   "source": [
    "# Question 2:\n",
    "\n",
    "### Which neighborhood is the most expensive?"
   ]
  },
  {
   "cell_type": "code",
   "execution_count": 16,
   "id": "1350eec2",
   "metadata": {},
   "outputs": [],
   "source": [
    "def price_to_float(df, column):\n",
    "    df[column] = df[column].str.replace(\"[$,]\",\"\", regex=True).astype(float)\n",
    "    \n",
    "price_to_float(listings_df, 'price')"
   ]
  },
  {
   "cell_type": "code",
   "execution_count": 17,
   "id": "56d95da6",
   "metadata": {},
   "outputs": [],
   "source": [
    "describe = listings_df['price'].describe()"
   ]
  },
  {
   "cell_type": "code",
   "execution_count": 18,
   "id": "74c29687",
   "metadata": {},
   "outputs": [
    {
     "name": "stdout",
     "output_type": "stream",
     "text": [
      "The Neighborhood with the cheapest price is: ['Queen Anne']\n",
      "\n",
      "The Neighborhood with the most expensive price is: ['Ravenna']\n"
     ]
    }
   ],
   "source": [
    "#The neighborhood with the cheapest price \n",
    "print(\"The Neighborhood with the cheapest price is: {}\".format(list(listings_df['neighbourhood'][listings_df['price'] == describe['min']])))\n",
    "\n",
    "#The neighborhood with the most expensive price\n",
    "print(\"\\nThe Neighborhood with the most expensive price is: {}\".format(list(listings_df['neighbourhood'][listings_df['price'] == describe['max']])))"
   ]
  },
  {
   "cell_type": "markdown",
   "id": "3478aba1",
   "metadata": {},
   "source": [
    "## Comparing 4 different possible type prices by neighborhoods: Max Price, Min Price, Mean Price, and Sum Price."
   ]
  },
  {
   "cell_type": "code",
   "execution_count": 19,
   "id": "6592d84f",
   "metadata": {},
   "outputs": [],
   "source": [
    "def price_neighborhood():\n",
    "    mean_v = pd.DataFrame(listings_df.groupby('neighbourhood_group_cleansed').mean()['price'].sort_values()).reset_index()\n",
    "    max_v = pd.DataFrame(listings_df.groupby('neighbourhood_group_cleansed').max()['price'].sort_values()).reset_index()\n",
    "    min_v = pd.DataFrame(listings_df.groupby('neighbourhood_group_cleansed').min()['price'].sort_values()).reset_index()\n",
    "    sum_v = pd.DataFrame(listings_df.groupby('neighbourhood_group_cleansed').sum()['price'].sort_values()).reset_index()\n",
    "    return mean_v, max_v, min_v, sum_v"
   ]
  },
  {
   "cell_type": "code",
   "execution_count": 20,
   "id": "95060174",
   "metadata": {},
   "outputs": [
    {
     "name": "stderr",
     "output_type": "stream",
     "text": [
      "/tmp/ipykernel_10417/3470036678.py:3: FutureWarning: Dropping invalid columns in DataFrameGroupBy.max is deprecated. In a future version, a TypeError will be raised. Before calling .max, select only columns which should be valid for the function.\n",
      "  max_v = pd.DataFrame(listings_df.groupby('neighbourhood_group_cleansed').max()['price'].sort_values()).reset_index()\n",
      "/tmp/ipykernel_10417/3470036678.py:4: FutureWarning: Dropping invalid columns in DataFrameGroupBy.min is deprecated. In a future version, a TypeError will be raised. Before calling .min, select only columns which should be valid for the function.\n",
      "  min_v = pd.DataFrame(listings_df.groupby('neighbourhood_group_cleansed').min()['price'].sort_values()).reset_index()\n"
     ]
    }
   ],
   "source": [
    "mean_df, max_df, min_df, sum_df = price_neighborhood()"
   ]
  },
  {
   "cell_type": "markdown",
   "id": "0b7c0a79",
   "metadata": {},
   "source": [
    "### Starting with the \"Mean Price\", viewing the data frame with the Neighborhoods/Prices, and the plot."
   ]
  },
  {
   "cell_type": "code",
   "execution_count": 21,
   "id": "dd7fa937",
   "metadata": {},
   "outputs": [
    {
     "data": {
      "text/html": [
       "<div>\n",
       "<style scoped>\n",
       "    .dataframe tbody tr th:only-of-type {\n",
       "        vertical-align: middle;\n",
       "    }\n",
       "\n",
       "    .dataframe tbody tr th {\n",
       "        vertical-align: top;\n",
       "    }\n",
       "\n",
       "    .dataframe thead th {\n",
       "        text-align: right;\n",
       "    }\n",
       "</style>\n",
       "<table border=\"1\" class=\"dataframe\">\n",
       "  <thead>\n",
       "    <tr style=\"text-align: right;\">\n",
       "      <th></th>\n",
       "      <th>neighbourhood_group_cleansed</th>\n",
       "      <th>price</th>\n",
       "    </tr>\n",
       "  </thead>\n",
       "  <tbody>\n",
       "    <tr>\n",
       "      <th>0</th>\n",
       "      <td>Delridge</td>\n",
       "      <td>83.278481</td>\n",
       "    </tr>\n",
       "    <tr>\n",
       "      <th>1</th>\n",
       "      <td>Northgate</td>\n",
       "      <td>88.550000</td>\n",
       "    </tr>\n",
       "    <tr>\n",
       "      <th>2</th>\n",
       "      <td>Rainier Valley</td>\n",
       "      <td>91.899371</td>\n",
       "    </tr>\n",
       "    <tr>\n",
       "      <th>3</th>\n",
       "      <td>Lake City</td>\n",
       "      <td>92.671642</td>\n",
       "    </tr>\n",
       "    <tr>\n",
       "      <th>4</th>\n",
       "      <td>University District</td>\n",
       "      <td>93.639344</td>\n",
       "    </tr>\n",
       "    <tr>\n",
       "      <th>5</th>\n",
       "      <td>Beacon Hill</td>\n",
       "      <td>94.669492</td>\n",
       "    </tr>\n",
       "    <tr>\n",
       "      <th>6</th>\n",
       "      <td>Seward Park</td>\n",
       "      <td>108.477273</td>\n",
       "    </tr>\n",
       "    <tr>\n",
       "      <th>7</th>\n",
       "      <td>Interbay</td>\n",
       "      <td>109.727273</td>\n",
       "    </tr>\n",
       "    <tr>\n",
       "      <th>8</th>\n",
       "      <td>Other neighborhoods</td>\n",
       "      <td>119.968514</td>\n",
       "    </tr>\n",
       "    <tr>\n",
       "      <th>9</th>\n",
       "      <td>Ballard</td>\n",
       "      <td>124.682609</td>\n",
       "    </tr>\n",
       "    <tr>\n",
       "      <th>10</th>\n",
       "      <td>Central Area</td>\n",
       "      <td>128.338753</td>\n",
       "    </tr>\n",
       "    <tr>\n",
       "      <th>11</th>\n",
       "      <td>Capitol Hill</td>\n",
       "      <td>130.592593</td>\n",
       "    </tr>\n",
       "    <tr>\n",
       "      <th>12</th>\n",
       "      <td>Cascade</td>\n",
       "      <td>140.101124</td>\n",
       "    </tr>\n",
       "    <tr>\n",
       "      <th>13</th>\n",
       "      <td>West Seattle</td>\n",
       "      <td>141.359606</td>\n",
       "    </tr>\n",
       "    <tr>\n",
       "      <th>14</th>\n",
       "      <td>Downtown</td>\n",
       "      <td>154.405660</td>\n",
       "    </tr>\n",
       "    <tr>\n",
       "      <th>15</th>\n",
       "      <td>Queen Anne</td>\n",
       "      <td>157.223729</td>\n",
       "    </tr>\n",
       "    <tr>\n",
       "      <th>16</th>\n",
       "      <td>Magnolia</td>\n",
       "      <td>177.672131</td>\n",
       "    </tr>\n",
       "  </tbody>\n",
       "</table>\n",
       "</div>"
      ],
      "text/plain": [
       "   neighbourhood_group_cleansed       price\n",
       "0                      Delridge   83.278481\n",
       "1                     Northgate   88.550000\n",
       "2                Rainier Valley   91.899371\n",
       "3                     Lake City   92.671642\n",
       "4           University District   93.639344\n",
       "5                   Beacon Hill   94.669492\n",
       "6                   Seward Park  108.477273\n",
       "7                      Interbay  109.727273\n",
       "8           Other neighborhoods  119.968514\n",
       "9                       Ballard  124.682609\n",
       "10                 Central Area  128.338753\n",
       "11                 Capitol Hill  130.592593\n",
       "12                      Cascade  140.101124\n",
       "13                 West Seattle  141.359606\n",
       "14                     Downtown  154.405660\n",
       "15                   Queen Anne  157.223729\n",
       "16                     Magnolia  177.672131"
      ]
     },
     "execution_count": 21,
     "metadata": {},
     "output_type": "execute_result"
    }
   ],
   "source": [
    "mean_df"
   ]
  },
  {
   "cell_type": "code",
   "execution_count": 22,
   "id": "5c33de21",
   "metadata": {},
   "outputs": [
    {
     "data": {
      "image/png": "[encoded data removed]",
      "text/plain": [
       "<Figure size 648x432 with 1 Axes>"
      ]
     },
     "metadata": {
      "needs_background": "light"
     },
     "output_type": "display_data"
    }
   ],
   "source": [
    "plt.figure(figsize=(9,6))\n",
    "sns.barplot(x='neighbourhood_group_cleansed', y='price', data=mean_df)\n",
    "plt.xticks(rotation=90)\n",
    "plt.title('Mean Price by Neighborhood')\n",
    "plt.show()"
   ]
  },
  {
   "cell_type": "markdown",
   "id": "8bcdd577",
   "metadata": {},
   "source": [
    "### \"Minimum Price\", viewing the data frame with the Neighborhoods/Prices, and the plot."
   ]
  },
  {
   "cell_type": "code",
   "execution_count": 23,
   "id": "2c9019fd",
   "metadata": {},
   "outputs": [
    {
     "data": {
      "text/html": [
       "<div>\n",
       "<style scoped>\n",
       "    .dataframe tbody tr th:only-of-type {\n",
       "        vertical-align: middle;\n",
       "    }\n",
       "\n",
       "    .dataframe tbody tr th {\n",
       "        vertical-align: top;\n",
       "    }\n",
       "\n",
       "    .dataframe thead th {\n",
       "        text-align: right;\n",
       "    }\n",
       "</style>\n",
       "<table border=\"1\" class=\"dataframe\">\n",
       "  <thead>\n",
       "    <tr style=\"text-align: right;\">\n",
       "      <th></th>\n",
       "      <th>neighbourhood_group_cleansed</th>\n",
       "      <th>price</th>\n",
       "    </tr>\n",
       "  </thead>\n",
       "  <tbody>\n",
       "    <tr>\n",
       "      <th>0</th>\n",
       "      <td>Queen Anne</td>\n",
       "      <td>20.0</td>\n",
       "    </tr>\n",
       "    <tr>\n",
       "      <th>1</th>\n",
       "      <td>Capitol Hill</td>\n",
       "      <td>22.0</td>\n",
       "    </tr>\n",
       "    <tr>\n",
       "      <th>2</th>\n",
       "      <td>Ballard</td>\n",
       "      <td>25.0</td>\n",
       "    </tr>\n",
       "    <tr>\n",
       "      <th>3</th>\n",
       "      <td>Rainier Valley</td>\n",
       "      <td>25.0</td>\n",
       "    </tr>\n",
       "    <tr>\n",
       "      <th>4</th>\n",
       "      <td>Other neighborhoods</td>\n",
       "      <td>25.0</td>\n",
       "    </tr>\n",
       "    <tr>\n",
       "      <th>5</th>\n",
       "      <td>University District</td>\n",
       "      <td>28.0</td>\n",
       "    </tr>\n",
       "    <tr>\n",
       "      <th>6</th>\n",
       "      <td>Northgate</td>\n",
       "      <td>30.0</td>\n",
       "    </tr>\n",
       "    <tr>\n",
       "      <th>7</th>\n",
       "      <td>Magnolia</td>\n",
       "      <td>30.0</td>\n",
       "    </tr>\n",
       "    <tr>\n",
       "      <th>8</th>\n",
       "      <td>West Seattle</td>\n",
       "      <td>30.0</td>\n",
       "    </tr>\n",
       "    <tr>\n",
       "      <th>9</th>\n",
       "      <td>Beacon Hill</td>\n",
       "      <td>30.0</td>\n",
       "    </tr>\n",
       "    <tr>\n",
       "      <th>10</th>\n",
       "      <td>Seward Park</td>\n",
       "      <td>34.0</td>\n",
       "    </tr>\n",
       "    <tr>\n",
       "      <th>11</th>\n",
       "      <td>Downtown</td>\n",
       "      <td>35.0</td>\n",
       "    </tr>\n",
       "    <tr>\n",
       "      <th>12</th>\n",
       "      <td>Delridge</td>\n",
       "      <td>35.0</td>\n",
       "    </tr>\n",
       "    <tr>\n",
       "      <th>13</th>\n",
       "      <td>Central Area</td>\n",
       "      <td>35.0</td>\n",
       "    </tr>\n",
       "    <tr>\n",
       "      <th>14</th>\n",
       "      <td>Lake City</td>\n",
       "      <td>35.0</td>\n",
       "    </tr>\n",
       "    <tr>\n",
       "      <th>15</th>\n",
       "      <td>Cascade</td>\n",
       "      <td>42.0</td>\n",
       "    </tr>\n",
       "    <tr>\n",
       "      <th>16</th>\n",
       "      <td>Interbay</td>\n",
       "      <td>50.0</td>\n",
       "    </tr>\n",
       "  </tbody>\n",
       "</table>\n",
       "</div>"
      ],
      "text/plain": [
       "   neighbourhood_group_cleansed  price\n",
       "0                    Queen Anne   20.0\n",
       "1                  Capitol Hill   22.0\n",
       "2                       Ballard   25.0\n",
       "3                Rainier Valley   25.0\n",
       "4           Other neighborhoods   25.0\n",
       "5           University District   28.0\n",
       "6                     Northgate   30.0\n",
       "7                      Magnolia   30.0\n",
       "8                  West Seattle   30.0\n",
       "9                   Beacon Hill   30.0\n",
       "10                  Seward Park   34.0\n",
       "11                     Downtown   35.0\n",
       "12                     Delridge   35.0\n",
       "13                 Central Area   35.0\n",
       "14                    Lake City   35.0\n",
       "15                      Cascade   42.0\n",
       "16                     Interbay   50.0"
      ]
     },
     "execution_count": 23,
     "metadata": {},
     "output_type": "execute_result"
    }
   ],
   "source": [
    "min_df"
   ]
  },
  {
   "cell_type": "code",
   "execution_count": 24,
   "id": "3f076ff6",
   "metadata": {},
   "outputs": [
    {
     "data": {
      "image/png": "[encoded data removed]",
      "text/plain": [
       "<Figure size 648x432 with 1 Axes>"
      ]
     },
     "metadata": {
      "needs_background": "light"
     },
     "output_type": "display_data"
    }
   ],
   "source": [
    "plt.figure(figsize=(9,6))\n",
    "sns.barplot(x='neighbourhood_group_cleansed', y='price', data=min_df)\n",
    "plt.xticks(rotation=90)\n",
    "plt.title('Minimum Price by Neighborhood')\n",
    "plt.show()"
   ]
  },
  {
   "cell_type": "markdown",
   "id": "bcd3b37e",
   "metadata": {},
   "source": [
    "### \"Maximum Price\", viewing the data frame with the Neighborhoods/Prices, and the plot."
   ]
  },
  {
   "cell_type": "code",
   "execution_count": 25,
   "id": "3ebfd9ab",
   "metadata": {},
   "outputs": [
    {
     "data": {
      "text/html": [
       "<div>\n",
       "<style scoped>\n",
       "    .dataframe tbody tr th:only-of-type {\n",
       "        vertical-align: middle;\n",
       "    }\n",
       "\n",
       "    .dataframe tbody tr th {\n",
       "        vertical-align: top;\n",
       "    }\n",
       "\n",
       "    .dataframe thead th {\n",
       "        text-align: right;\n",
       "    }\n",
       "</style>\n",
       "<table border=\"1\" class=\"dataframe\">\n",
       "  <thead>\n",
       "    <tr style=\"text-align: right;\">\n",
       "      <th></th>\n",
       "      <th>neighbourhood_group_cleansed</th>\n",
       "      <th>price</th>\n",
       "    </tr>\n",
       "  </thead>\n",
       "  <tbody>\n",
       "    <tr>\n",
       "      <th>0</th>\n",
       "      <td>Northgate</td>\n",
       "      <td>200.0</td>\n",
       "    </tr>\n",
       "    <tr>\n",
       "      <th>1</th>\n",
       "      <td>Interbay</td>\n",
       "      <td>250.0</td>\n",
       "    </tr>\n",
       "    <tr>\n",
       "      <th>2</th>\n",
       "      <td>Lake City</td>\n",
       "      <td>252.0</td>\n",
       "    </tr>\n",
       "    <tr>\n",
       "      <th>3</th>\n",
       "      <td>Rainier Valley</td>\n",
       "      <td>300.0</td>\n",
       "    </tr>\n",
       "    <tr>\n",
       "      <th>4</th>\n",
       "      <td>Delridge</td>\n",
       "      <td>300.0</td>\n",
       "    </tr>\n",
       "    <tr>\n",
       "      <th>5</th>\n",
       "      <td>University District</td>\n",
       "      <td>350.0</td>\n",
       "    </tr>\n",
       "    <tr>\n",
       "      <th>6</th>\n",
       "      <td>Seward Park</td>\n",
       "      <td>375.0</td>\n",
       "    </tr>\n",
       "    <tr>\n",
       "      <th>7</th>\n",
       "      <td>Beacon Hill</td>\n",
       "      <td>399.0</td>\n",
       "    </tr>\n",
       "    <tr>\n",
       "      <th>8</th>\n",
       "      <td>Ballard</td>\n",
       "      <td>475.0</td>\n",
       "    </tr>\n",
       "    <tr>\n",
       "      <th>9</th>\n",
       "      <td>West Seattle</td>\n",
       "      <td>495.0</td>\n",
       "    </tr>\n",
       "    <tr>\n",
       "      <th>10</th>\n",
       "      <td>Central Area</td>\n",
       "      <td>500.0</td>\n",
       "    </tr>\n",
       "    <tr>\n",
       "      <th>11</th>\n",
       "      <td>Capitol Hill</td>\n",
       "      <td>750.0</td>\n",
       "    </tr>\n",
       "    <tr>\n",
       "      <th>12</th>\n",
       "      <td>Cascade</td>\n",
       "      <td>775.0</td>\n",
       "    </tr>\n",
       "    <tr>\n",
       "      <th>13</th>\n",
       "      <td>Magnolia</td>\n",
       "      <td>950.0</td>\n",
       "    </tr>\n",
       "    <tr>\n",
       "      <th>14</th>\n",
       "      <td>Queen Anne</td>\n",
       "      <td>975.0</td>\n",
       "    </tr>\n",
       "    <tr>\n",
       "      <th>15</th>\n",
       "      <td>Downtown</td>\n",
       "      <td>999.0</td>\n",
       "    </tr>\n",
       "    <tr>\n",
       "      <th>16</th>\n",
       "      <td>Other neighborhoods</td>\n",
       "      <td>1000.0</td>\n",
       "    </tr>\n",
       "  </tbody>\n",
       "</table>\n",
       "</div>"
      ],
      "text/plain": [
       "   neighbourhood_group_cleansed   price\n",
       "0                     Northgate   200.0\n",
       "1                      Interbay   250.0\n",
       "2                     Lake City   252.0\n",
       "3                Rainier Valley   300.0\n",
       "4                      Delridge   300.0\n",
       "5           University District   350.0\n",
       "6                   Seward Park   375.0\n",
       "7                   Beacon Hill   399.0\n",
       "8                       Ballard   475.0\n",
       "9                  West Seattle   495.0\n",
       "10                 Central Area   500.0\n",
       "11                 Capitol Hill   750.0\n",
       "12                      Cascade   775.0\n",
       "13                     Magnolia   950.0\n",
       "14                   Queen Anne   975.0\n",
       "15                     Downtown   999.0\n",
       "16          Other neighborhoods  1000.0"
      ]
     },
     "execution_count": 25,
     "metadata": {},
     "output_type": "execute_result"
    }
   ],
   "source": [
    "max_df"
   ]
  },
  {
   "cell_type": "code",
   "execution_count": 26,
   "id": "f2a7058c",
   "metadata": {},
   "outputs": [
    {
     "data": {
      "image/png": "[encoded data removed]",
      "text/plain": [
       "<Figure size 648x432 with 1 Axes>"
      ]
     },
     "metadata": {
      "needs_background": "light"
     },
     "output_type": "display_data"
    }
   ],
   "source": [
    "plt.figure(figsize=(9,6))\n",
    "sns.barplot(x='neighbourhood_group_cleansed', y='price', data=max_df)\n",
    "plt.xticks(rotation=90)\n",
    "plt.title('Maximum Price by Neighborhood')\n",
    "plt.show()"
   ]
  },
  {
   "cell_type": "markdown",
   "id": "0f1aa780",
   "metadata": {},
   "source": [
    "### \"Sum Price\", viewing the data frame with the Neighborhoods/Prices, and the plot.\n",
    "\n",
    "This contain the sum of all the prices by neighborhoods. \n",
    "And other neighborhoods contains several neighborhoods, I'll remove it and compare those neighborhoods in another plot."
   ]
  },
  {
   "cell_type": "code",
   "execution_count": 27,
   "id": "1b312547",
   "metadata": {
    "scrolled": true
   },
   "outputs": [
    {
     "data": {
      "text/html": [
       "<div>\n",
       "<style scoped>\n",
       "    .dataframe tbody tr th:only-of-type {\n",
       "        vertical-align: middle;\n",
       "    }\n",
       "\n",
       "    .dataframe tbody tr th {\n",
       "        vertical-align: top;\n",
       "    }\n",
       "\n",
       "    .dataframe thead th {\n",
       "        text-align: right;\n",
       "    }\n",
       "</style>\n",
       "<table border=\"1\" class=\"dataframe\">\n",
       "  <thead>\n",
       "    <tr style=\"text-align: right;\">\n",
       "      <th></th>\n",
       "      <th>neighbourhood_group_cleansed</th>\n",
       "      <th>price</th>\n",
       "    </tr>\n",
       "  </thead>\n",
       "  <tbody>\n",
       "    <tr>\n",
       "      <th>0</th>\n",
       "      <td>Interbay</td>\n",
       "      <td>1207.0</td>\n",
       "    </tr>\n",
       "    <tr>\n",
       "      <th>1</th>\n",
       "      <td>Seward Park</td>\n",
       "      <td>4773.0</td>\n",
       "    </tr>\n",
       "    <tr>\n",
       "      <th>2</th>\n",
       "      <td>Lake City</td>\n",
       "      <td>6209.0</td>\n",
       "    </tr>\n",
       "    <tr>\n",
       "      <th>3</th>\n",
       "      <td>Delridge</td>\n",
       "      <td>6579.0</td>\n",
       "    </tr>\n",
       "    <tr>\n",
       "      <th>4</th>\n",
       "      <td>Northgate</td>\n",
       "      <td>7084.0</td>\n",
       "    </tr>\n",
       "    <tr>\n",
       "      <th>5</th>\n",
       "      <td>Magnolia</td>\n",
       "      <td>10838.0</td>\n",
       "    </tr>\n",
       "    <tr>\n",
       "      <th>6</th>\n",
       "      <td>Beacon Hill</td>\n",
       "      <td>11171.0</td>\n",
       "    </tr>\n",
       "    <tr>\n",
       "      <th>7</th>\n",
       "      <td>University District</td>\n",
       "      <td>11424.0</td>\n",
       "    </tr>\n",
       "    <tr>\n",
       "      <th>8</th>\n",
       "      <td>Cascade</td>\n",
       "      <td>12469.0</td>\n",
       "    </tr>\n",
       "    <tr>\n",
       "      <th>9</th>\n",
       "      <td>Rainier Valley</td>\n",
       "      <td>14612.0</td>\n",
       "    </tr>\n",
       "    <tr>\n",
       "      <th>10</th>\n",
       "      <td>Ballard</td>\n",
       "      <td>28677.0</td>\n",
       "    </tr>\n",
       "    <tr>\n",
       "      <th>11</th>\n",
       "      <td>West Seattle</td>\n",
       "      <td>28696.0</td>\n",
       "    </tr>\n",
       "    <tr>\n",
       "      <th>12</th>\n",
       "      <td>Queen Anne</td>\n",
       "      <td>46381.0</td>\n",
       "    </tr>\n",
       "    <tr>\n",
       "      <th>13</th>\n",
       "      <td>Central Area</td>\n",
       "      <td>47357.0</td>\n",
       "    </tr>\n",
       "    <tr>\n",
       "      <th>14</th>\n",
       "      <td>Capitol Hill</td>\n",
       "      <td>74046.0</td>\n",
       "    </tr>\n",
       "    <tr>\n",
       "      <th>15</th>\n",
       "      <td>Downtown</td>\n",
       "      <td>81835.0</td>\n",
       "    </tr>\n",
       "  </tbody>\n",
       "</table>\n",
       "</div>"
      ],
      "text/plain": [
       "   neighbourhood_group_cleansed    price\n",
       "0                      Interbay   1207.0\n",
       "1                   Seward Park   4773.0\n",
       "2                     Lake City   6209.0\n",
       "3                      Delridge   6579.0\n",
       "4                     Northgate   7084.0\n",
       "5                      Magnolia  10838.0\n",
       "6                   Beacon Hill  11171.0\n",
       "7           University District  11424.0\n",
       "8                       Cascade  12469.0\n",
       "9                Rainier Valley  14612.0\n",
       "10                      Ballard  28677.0\n",
       "11                 West Seattle  28696.0\n",
       "12                   Queen Anne  46381.0\n",
       "13                 Central Area  47357.0\n",
       "14                 Capitol Hill  74046.0\n",
       "15                     Downtown  81835.0"
      ]
     },
     "execution_count": 27,
     "metadata": {},
     "output_type": "execute_result"
    }
   ],
   "source": [
    "sum_df = sum_df[:-1]\n",
    "sum_df"
   ]
  },
  {
   "cell_type": "code",
   "execution_count": 28,
   "id": "f83256a8",
   "metadata": {
    "scrolled": false
   },
   "outputs": [
    {
     "data": {
      "image/png": "[encoded data removed]",
      "text/plain": [
       "<Figure size 648x432 with 1 Axes>"
      ]
     },
     "metadata": {
      "needs_background": "light"
     },
     "output_type": "display_data"
    }
   ],
   "source": [
    "plt.figure(figsize=(9,6))\n",
    "sns.barplot(x='neighbourhood_group_cleansed', y='price', data=sum_df)\n",
    "plt.xticks(rotation=90)\n",
    "plt.title('Sum Price by Neighborhood')\n",
    "plt.show()"
   ]
  },
  {
   "cell_type": "code",
   "execution_count": 29,
   "id": "0e866515",
   "metadata": {},
   "outputs": [],
   "source": [
    "others_neighborhoods = listings_df[listings_df['neighbourhood_group_cleansed'] == 'Other neighborhoods']"
   ]
  },
  {
   "cell_type": "code",
   "execution_count": 30,
   "id": "7041cd79",
   "metadata": {},
   "outputs": [
    {
     "data": {
      "text/plain": [
       "280     Wallingford\n",
       "281     Wallingford\n",
       "282         Fremont\n",
       "283     Wallingford\n",
       "284     Wallingford\n",
       "           ...     \n",
       "3809        Fremont\n",
       "3810        Fremont\n",
       "3811        Fremont\n",
       "3812        Fremont\n",
       "3813        Fremont\n",
       "Name: neighbourhood, Length: 794, dtype: object"
      ]
     },
     "execution_count": 30,
     "metadata": {},
     "output_type": "execute_result"
    }
   ],
   "source": [
    "others_neighborhoods['neighbourhood']"
   ]
  },
  {
   "cell_type": "code",
   "execution_count": 31,
   "id": "558036f4",
   "metadata": {},
   "outputs": [],
   "source": [
    "other_n_df = pd.DataFrame(others_neighborhoods.groupby('neighbourhood').sum()['price'].sort_values()).reset_index()"
   ]
  },
  {
   "cell_type": "code",
   "execution_count": 32,
   "id": "4648259a",
   "metadata": {},
   "outputs": [
    {
     "data": {
      "text/html": [
       "<div>\n",
       "<style scoped>\n",
       "    .dataframe tbody tr th:only-of-type {\n",
       "        vertical-align: middle;\n",
       "    }\n",
       "\n",
       "    .dataframe tbody tr th {\n",
       "        vertical-align: top;\n",
       "    }\n",
       "\n",
       "    .dataframe thead th {\n",
       "        text-align: right;\n",
       "    }\n",
       "</style>\n",
       "<table border=\"1\" class=\"dataframe\">\n",
       "  <thead>\n",
       "    <tr style=\"text-align: right;\">\n",
       "      <th></th>\n",
       "      <th>neighbourhood</th>\n",
       "      <th>price</th>\n",
       "    </tr>\n",
       "  </thead>\n",
       "  <tbody>\n",
       "    <tr>\n",
       "      <th>0</th>\n",
       "      <td>Maple Leaf</td>\n",
       "      <td>125.0</td>\n",
       "    </tr>\n",
       "    <tr>\n",
       "      <th>1</th>\n",
       "      <td>North Admiral</td>\n",
       "      <td>130.0</td>\n",
       "    </tr>\n",
       "    <tr>\n",
       "      <th>2</th>\n",
       "      <td>International District</td>\n",
       "      <td>150.0</td>\n",
       "    </tr>\n",
       "    <tr>\n",
       "      <th>3</th>\n",
       "      <td>South Park</td>\n",
       "      <td>205.0</td>\n",
       "    </tr>\n",
       "    <tr>\n",
       "      <th>4</th>\n",
       "      <td>University District</td>\n",
       "      <td>290.0</td>\n",
       "    </tr>\n",
       "    <tr>\n",
       "      <th>5</th>\n",
       "      <td>Georgetown</td>\n",
       "      <td>539.0</td>\n",
       "    </tr>\n",
       "    <tr>\n",
       "      <th>6</th>\n",
       "      <td>Industrial District</td>\n",
       "      <td>735.0</td>\n",
       "    </tr>\n",
       "    <tr>\n",
       "      <th>7</th>\n",
       "      <td>View Ridge</td>\n",
       "      <td>863.0</td>\n",
       "    </tr>\n",
       "    <tr>\n",
       "      <th>8</th>\n",
       "      <td>Ballard</td>\n",
       "      <td>908.0</td>\n",
       "    </tr>\n",
       "    <tr>\n",
       "      <th>9</th>\n",
       "      <td>Laurelhurst</td>\n",
       "      <td>984.0</td>\n",
       "    </tr>\n",
       "    <tr>\n",
       "      <th>10</th>\n",
       "      <td>Bitter Lake</td>\n",
       "      <td>1025.0</td>\n",
       "    </tr>\n",
       "    <tr>\n",
       "      <th>11</th>\n",
       "      <td>North Beach/Blue Ridge</td>\n",
       "      <td>1467.0</td>\n",
       "    </tr>\n",
       "    <tr>\n",
       "      <th>12</th>\n",
       "      <td>Wedgewood</td>\n",
       "      <td>1600.0</td>\n",
       "    </tr>\n",
       "    <tr>\n",
       "      <th>13</th>\n",
       "      <td>Crown Hill</td>\n",
       "      <td>1617.0</td>\n",
       "    </tr>\n",
       "    <tr>\n",
       "      <th>14</th>\n",
       "      <td>Broadview</td>\n",
       "      <td>1646.0</td>\n",
       "    </tr>\n",
       "    <tr>\n",
       "      <th>15</th>\n",
       "      <td>Windermere</td>\n",
       "      <td>1747.0</td>\n",
       "    </tr>\n",
       "    <tr>\n",
       "      <th>16</th>\n",
       "      <td>Roosevelt</td>\n",
       "      <td>2283.0</td>\n",
       "    </tr>\n",
       "    <tr>\n",
       "      <th>17</th>\n",
       "      <td>Bryant</td>\n",
       "      <td>3344.0</td>\n",
       "    </tr>\n",
       "    <tr>\n",
       "      <th>18</th>\n",
       "      <td>Ravenna</td>\n",
       "      <td>6439.0</td>\n",
       "    </tr>\n",
       "    <tr>\n",
       "      <th>19</th>\n",
       "      <td>Phinney Ridge</td>\n",
       "      <td>6971.0</td>\n",
       "    </tr>\n",
       "    <tr>\n",
       "      <th>20</th>\n",
       "      <td>Greenwood</td>\n",
       "      <td>7481.0</td>\n",
       "    </tr>\n",
       "    <tr>\n",
       "      <th>21</th>\n",
       "      <td>Green Lake</td>\n",
       "      <td>7938.0</td>\n",
       "    </tr>\n",
       "    <tr>\n",
       "      <th>22</th>\n",
       "      <td>Wallingford</td>\n",
       "      <td>18781.0</td>\n",
       "    </tr>\n",
       "    <tr>\n",
       "      <th>23</th>\n",
       "      <td>Fremont</td>\n",
       "      <td>18804.0</td>\n",
       "    </tr>\n",
       "  </tbody>\n",
       "</table>\n",
       "</div>"
      ],
      "text/plain": [
       "             neighbourhood    price\n",
       "0               Maple Leaf    125.0\n",
       "1            North Admiral    130.0\n",
       "2   International District    150.0\n",
       "3               South Park    205.0\n",
       "4      University District    290.0\n",
       "5               Georgetown    539.0\n",
       "6      Industrial District    735.0\n",
       "7               View Ridge    863.0\n",
       "8                  Ballard    908.0\n",
       "9              Laurelhurst    984.0\n",
       "10             Bitter Lake   1025.0\n",
       "11  North Beach/Blue Ridge   1467.0\n",
       "12               Wedgewood   1600.0\n",
       "13              Crown Hill   1617.0\n",
       "14               Broadview   1646.0\n",
       "15              Windermere   1747.0\n",
       "16               Roosevelt   2283.0\n",
       "17                  Bryant   3344.0\n",
       "18                 Ravenna   6439.0\n",
       "19           Phinney Ridge   6971.0\n",
       "20               Greenwood   7481.0\n",
       "21              Green Lake   7938.0\n",
       "22             Wallingford  18781.0\n",
       "23                 Fremont  18804.0"
      ]
     },
     "execution_count": 32,
     "metadata": {},
     "output_type": "execute_result"
    }
   ],
   "source": [
    "other_n_df"
   ]
  },
  {
   "cell_type": "code",
   "execution_count": 33,
   "id": "4321bcbe",
   "metadata": {},
   "outputs": [
    {
     "data": {
      "image/png": "[encoded data removed]",
      "text/plain": [
       "<Figure size 720x576 with 1 Axes>"
      ]
     },
     "metadata": {
      "needs_background": "light"
     },
     "output_type": "display_data"
    }
   ],
   "source": [
    "plt.figure(figsize=(10,8))\n",
    "sns.barplot(x='neighbourhood', y='price', data=other_n_df)\n",
    "plt.xticks(rotation=90)\n",
    "plt.title('Sum Price by Neighborhood')\n",
    "plt.show()"
   ]
  },
  {
   "cell_type": "markdown",
   "id": "4bf32628",
   "metadata": {},
   "source": [
    "# Question 3:\n",
    "\n",
    "### What are the busiest times of the year to visit Seattle? By how much do prices spike?"
   ]
  },
  {
   "cell_type": "code",
   "execution_count": 34,
   "id": "9f7036d3",
   "metadata": {},
   "outputs": [],
   "source": [
    "#Convert available values to [0,1], 0 for the value 't' this mean that is available.\n",
    "#And 1 for the value 'f' mean is not available.\n",
    "calendar_df['available'] = calendar_df['available'].replace('t', 0)\n",
    "calendar_df['available'] = calendar_df['available'].replace('f', 1)"
   ]
  },
  {
   "cell_type": "code",
   "execution_count": 35,
   "id": "e33e862a",
   "metadata": {},
   "outputs": [],
   "source": [
    "#Convert the column price to float and remove the symbols '$' and ','\n",
    "calendar_df['price'] = calendar_df['price'].str.replace(\"[$,]\",\"\", regex=True).astype(float)"
   ]
  },
  {
   "cell_type": "code",
   "execution_count": 36,
   "id": "f88492dd",
   "metadata": {
    "scrolled": false
   },
   "outputs": [],
   "source": [
    "#Convert the column date to format datetime.\n",
    "calendar_df['date'] = calendar_df['date'].str.replace(\"-\", \"\")\n",
    "calendar_df['date'] = pd.to_datetime(calendar_df['date'], format='%Y%m%d')"
   ]
  },
  {
   "cell_type": "markdown",
   "id": "d08c1aeb",
   "metadata": {},
   "source": [
    "## NaN Values\n",
    "\n",
    "#### Replacing the NaN values in price, by listing_id, it is the best way, since they vary between listing_id."
   ]
  },
  {
   "cell_type": "code",
   "execution_count": 37,
   "id": "83caa3a4",
   "metadata": {},
   "outputs": [
    {
     "name": "stderr",
     "output_type": "stream",
     "text": [
      "/tmp/ipykernel_10417/3126268591.py:3: SettingWithCopyWarning: \n",
      "A value is trying to be set on a copy of a slice from a DataFrame\n",
      "\n",
      "See the caveats in the documentation: https://pandas.pydata.org/pandas-docs/stable/user_guide/indexing.html#returning-a-view-versus-a-copy\n",
      "  calendar_df['price'][calendar_df['listing_id'] == lst_id] = calendar_df['price'][calendar_df['listing_id'] == lst_id].fillna(round(calendar_df['price'][calendar_df['listing_id'] == lst_id].mean(),1))\n"
     ]
    }
   ],
   "source": [
    "#Filling the NaN values with the mean of each listing_id.\n",
    "for lst_id in calendar_df['listing_id'].unique():\n",
    "    calendar_df['price'][calendar_df['listing_id'] == lst_id] = calendar_df['price'][calendar_df['listing_id'] == lst_id].fillna(round(calendar_df['price'][calendar_df['listing_id'] == lst_id].mean(),1))"
   ]
  },
  {
   "cell_type": "code",
   "execution_count": 38,
   "id": "bed2ee1d",
   "metadata": {
    "scrolled": true
   },
   "outputs": [],
   "source": [
    "#And then filling the remaining nan values with the general mean.\n",
    "calendar_df['price'].fillna(calendar_df['price'].mean(), inplace=True)"
   ]
  },
  {
   "cell_type": "code",
   "execution_count": 39,
   "id": "d278a234",
   "metadata": {},
   "outputs": [],
   "source": [
    "calendar_df['month'] = calendar_df['date'].dt.month"
   ]
  },
  {
   "cell_type": "code",
   "execution_count": 40,
   "id": "5f0e9285",
   "metadata": {},
   "outputs": [],
   "source": [
    "#Creating groupby with the months\n",
    "date_group = calendar_df.groupby('month').sum()['available'].reset_index()\n",
    "price_group = calendar_df.groupby('month').mean()['price'].reset_index()"
   ]
  },
  {
   "cell_type": "code",
   "execution_count": 41,
   "id": "4c4b5f25",
   "metadata": {},
   "outputs": [
    {
     "data": {
      "text/html": [
       "<div>\n",
       "<style scoped>\n",
       "    .dataframe tbody tr th:only-of-type {\n",
       "        vertical-align: middle;\n",
       "    }\n",
       "\n",
       "    .dataframe tbody tr th {\n",
       "        vertical-align: top;\n",
       "    }\n",
       "\n",
       "    .dataframe thead th {\n",
       "        text-align: right;\n",
       "    }\n",
       "</style>\n",
       "<table border=\"1\" class=\"dataframe\">\n",
       "  <thead>\n",
       "    <tr style=\"text-align: right;\">\n",
       "      <th></th>\n",
       "      <th>month</th>\n",
       "      <th>available</th>\n",
       "    </tr>\n",
       "  </thead>\n",
       "  <tbody>\n",
       "    <tr>\n",
       "      <th>0</th>\n",
       "      <td>1</td>\n",
       "      <td>49603</td>\n",
       "    </tr>\n",
       "    <tr>\n",
       "      <th>1</th>\n",
       "      <td>2</td>\n",
       "      <td>37401</td>\n",
       "    </tr>\n",
       "    <tr>\n",
       "      <th>2</th>\n",
       "      <td>3</td>\n",
       "      <td>34420</td>\n",
       "    </tr>\n",
       "    <tr>\n",
       "      <th>3</th>\n",
       "      <td>4</td>\n",
       "      <td>38503</td>\n",
       "    </tr>\n",
       "    <tr>\n",
       "      <th>4</th>\n",
       "      <td>5</td>\n",
       "      <td>38387</td>\n",
       "    </tr>\n",
       "    <tr>\n",
       "      <th>5</th>\n",
       "      <td>6</td>\n",
       "      <td>37296</td>\n",
       "    </tr>\n",
       "    <tr>\n",
       "      <th>6</th>\n",
       "      <td>7</td>\n",
       "      <td>44136</td>\n",
       "    </tr>\n",
       "    <tr>\n",
       "      <th>7</th>\n",
       "      <td>8</td>\n",
       "      <td>42011</td>\n",
       "    </tr>\n",
       "    <tr>\n",
       "      <th>8</th>\n",
       "      <td>9</td>\n",
       "      <td>37294</td>\n",
       "    </tr>\n",
       "    <tr>\n",
       "      <th>9</th>\n",
       "      <td>10</td>\n",
       "      <td>35920</td>\n",
       "    </tr>\n",
       "    <tr>\n",
       "      <th>10</th>\n",
       "      <td>11</td>\n",
       "      <td>32760</td>\n",
       "    </tr>\n",
       "    <tr>\n",
       "      <th>11</th>\n",
       "      <td>12</td>\n",
       "      <td>31297</td>\n",
       "    </tr>\n",
       "  </tbody>\n",
       "</table>\n",
       "</div>"
      ],
      "text/plain": [
       "    month  available\n",
       "0       1      49603\n",
       "1       2      37401\n",
       "2       3      34420\n",
       "3       4      38503\n",
       "4       5      38387\n",
       "5       6      37296\n",
       "6       7      44136\n",
       "7       8      42011\n",
       "8       9      37294\n",
       "9      10      35920\n",
       "10     11      32760\n",
       "11     12      31297"
      ]
     },
     "execution_count": 41,
     "metadata": {},
     "output_type": "execute_result"
    }
   ],
   "source": [
    "date_group"
   ]
  },
  {
   "cell_type": "code",
   "execution_count": 42,
   "id": "75587b12",
   "metadata": {},
   "outputs": [
    {
     "data": {
      "text/html": [
       "<div>\n",
       "<style scoped>\n",
       "    .dataframe tbody tr th:only-of-type {\n",
       "        vertical-align: middle;\n",
       "    }\n",
       "\n",
       "    .dataframe tbody tr th {\n",
       "        vertical-align: top;\n",
       "    }\n",
       "\n",
       "    .dataframe thead th {\n",
       "        text-align: right;\n",
       "    }\n",
       "</style>\n",
       "<table border=\"1\" class=\"dataframe\">\n",
       "  <thead>\n",
       "    <tr style=\"text-align: right;\">\n",
       "      <th></th>\n",
       "      <th>month</th>\n",
       "      <th>price</th>\n",
       "    </tr>\n",
       "  </thead>\n",
       "  <tbody>\n",
       "    <tr>\n",
       "      <th>0</th>\n",
       "      <td>1</td>\n",
       "      <td>128.344186</td>\n",
       "    </tr>\n",
       "    <tr>\n",
       "      <th>1</th>\n",
       "      <td>2</td>\n",
       "      <td>128.666471</td>\n",
       "    </tr>\n",
       "    <tr>\n",
       "      <th>2</th>\n",
       "      <td>3</td>\n",
       "      <td>131.549468</td>\n",
       "    </tr>\n",
       "    <tr>\n",
       "      <th>3</th>\n",
       "      <td>4</td>\n",
       "      <td>133.789809</td>\n",
       "    </tr>\n",
       "    <tr>\n",
       "      <th>4</th>\n",
       "      <td>5</td>\n",
       "      <td>136.693894</td>\n",
       "    </tr>\n",
       "    <tr>\n",
       "      <th>5</th>\n",
       "      <td>6</td>\n",
       "      <td>142.366536</td>\n",
       "    </tr>\n",
       "    <tr>\n",
       "      <th>6</th>\n",
       "      <td>7</td>\n",
       "      <td>143.388794</td>\n",
       "    </tr>\n",
       "    <tr>\n",
       "      <th>7</th>\n",
       "      <td>8</td>\n",
       "      <td>142.745094</td>\n",
       "    </tr>\n",
       "    <tr>\n",
       "      <th>8</th>\n",
       "      <td>9</td>\n",
       "      <td>138.189746</td>\n",
       "    </tr>\n",
       "    <tr>\n",
       "      <th>9</th>\n",
       "      <td>10</td>\n",
       "      <td>134.421418</td>\n",
       "    </tr>\n",
       "    <tr>\n",
       "      <th>10</th>\n",
       "      <td>11</td>\n",
       "      <td>133.654279</td>\n",
       "    </tr>\n",
       "    <tr>\n",
       "      <th>11</th>\n",
       "      <td>12</td>\n",
       "      <td>134.823665</td>\n",
       "    </tr>\n",
       "  </tbody>\n",
       "</table>\n",
       "</div>"
      ],
      "text/plain": [
       "    month       price\n",
       "0       1  128.344186\n",
       "1       2  128.666471\n",
       "2       3  131.549468\n",
       "3       4  133.789809\n",
       "4       5  136.693894\n",
       "5       6  142.366536\n",
       "6       7  143.388794\n",
       "7       8  142.745094\n",
       "8       9  138.189746\n",
       "9      10  134.421418\n",
       "10     11  133.654279\n",
       "11     12  134.823665"
      ]
     },
     "execution_count": 42,
     "metadata": {},
     "output_type": "execute_result"
    }
   ],
   "source": [
    "price_group"
   ]
  },
  {
   "cell_type": "code",
   "execution_count": 43,
   "id": "2feab0c7",
   "metadata": {
    "scrolled": true
   },
   "outputs": [
    {
     "data": {
      "image/png": "[encoded data removed]",
      "text/plain": [
       "<Figure size 432x288 with 1 Axes>"
      ]
     },
     "metadata": {
      "needs_background": "light"
     },
     "output_type": "display_data"
    }
   ],
   "source": [
    "plt.plot(date_group['month'], date_group['available'])\n",
    "plt.title('Booked by Month')\n",
    "plt.show()"
   ]
  },
  {
   "cell_type": "code",
   "execution_count": 44,
   "id": "d6b6572e",
   "metadata": {
    "scrolled": true
   },
   "outputs": [
    {
     "data": {
      "image/png": "[encoded data removed]",
      "text/plain": [
       "<Figure size 432x288 with 1 Axes>"
      ]
     },
     "metadata": {
      "needs_background": "light"
     },
     "output_type": "display_data"
    }
   ],
   "source": [
    "plt.plot(price_group['month'], price_group['price'])\n",
    "plt.title('Price by Month')\n",
    "plt.show()"
   ]
  },
  {
   "cell_type": "markdown",
   "id": "e78278c3",
   "metadata": {},
   "source": [
    "### Answer\n",
    "\n",
    "With the above graphs we can see that the months in which Seattle is most visited are: January, and between July and August, I think the latter for 4th July since it is a very symbolic date and where it is celebrated a lot.\n",
    "\n",
    "Regarding prices, they also rise extraordinarily in the months of June, July, and August. Visualizing with averages per month, we see that they rise up to 15% more, from the lowest average price. Reaching an average of 143.00 dollars per month, when the lowest average price per month is 128.00 dollars and it is for this reason that the month of January in the previous graph also has a large number of visits, because that is when the prices are lower."
   ]
  }
 ],
 "metadata": {
  "kernelspec": {
   "display_name": "Python 3 (ipykernel)",
   "language": "python",
   "name": "python3"
  },
  "language_info": {
   "codemirror_mode": {
    "name": "ipython",
    "version": 3
   },
   "file_extension": ".py",
   "mimetype": "text/x-python",
   "name": "python",
   "nbconvert_exporter": "python",
   "pygments_lexer": "ipython3",
   "version": "3.9.12"
  }
 },
 "nbformat": 4,
 "nbformat_minor": 5
}
